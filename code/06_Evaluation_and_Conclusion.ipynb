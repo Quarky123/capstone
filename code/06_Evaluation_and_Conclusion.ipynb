{
 "cells": [
  {
   "cell_type": "code",
   "execution_count": 1,
   "metadata": {},
   "outputs": [
    {
     "name": "stderr",
     "output_type": "stream",
     "text": [
      "<ipython-input-1-2dd3da127f31>:2: FutureWarning: The pandas.datetime class is deprecated and will be removed from pandas in a future version. Import from datetime module instead.\n",
      "  from pandas import datetime\n"
     ]
    }
   ],
   "source": [
    "#from pandas import read_csv\n",
    "from pandas import datetime\n",
    "import pandas as pd\n",
    "import numpy as np\n",
    "from matplotlib import pyplot\n",
    "from sklearn.metrics import mean_squared_error\n",
    "from sklearn.linear_model import LinearRegression\n",
    "from sklearn import metrics\n",
    "%matplotlib inline\n",
    "\n",
    "import seaborn as sns\n",
    "import matplotlib.pyplot as plt"
   ]
  },
  {
   "cell_type": "markdown",
   "metadata": {},
   "source": [
    "# Importing Dataset and cleaning them"
   ]
  },
  {
   "cell_type": "code",
   "execution_count": 2,
   "metadata": {},
   "outputs": [],
   "source": [
    "#read in NAV dataset\n",
    "NAV = pd.read_csv('../dataset/final_NAV.csv', parse_dates=['quarter'])"
   ]
  },
  {
   "cell_type": "code",
   "execution_count": 3,
   "metadata": {},
   "outputs": [],
   "source": [
    "NAV.drop(columns = ['Unnamed: 0'], inplace=True)"
   ]
  },
  {
   "cell_type": "code",
   "execution_count": 4,
   "metadata": {},
   "outputs": [],
   "source": [
    "NAV.rename(columns={'quarter': 'Date'}, inplace=True)"
   ]
  },
  {
   "cell_type": "code",
   "execution_count": 5,
   "metadata": {},
   "outputs": [],
   "source": [
    "NAV.set_index('Date', inplace = True)"
   ]
  },
  {
   "cell_type": "code",
   "execution_count": 6,
   "metadata": {},
   "outputs": [
    {
     "data": {
      "text/html": [
       "<div>\n",
       "<style scoped>\n",
       "    .dataframe tbody tr th:only-of-type {\n",
       "        vertical-align: middle;\n",
       "    }\n",
       "\n",
       "    .dataframe tbody tr th {\n",
       "        vertical-align: top;\n",
       "    }\n",
       "\n",
       "    .dataframe thead th {\n",
       "        text-align: right;\n",
       "    }\n",
       "</style>\n",
       "<table border=\"1\" class=\"dataframe\">\n",
       "  <thead>\n",
       "    <tr style=\"text-align: right;\">\n",
       "      <th></th>\n",
       "      <th>final NAV</th>\n",
       "    </tr>\n",
       "    <tr>\n",
       "      <th>Date</th>\n",
       "      <th></th>\n",
       "    </tr>\n",
       "  </thead>\n",
       "  <tbody>\n",
       "    <tr>\n",
       "      <th>2017-03-31</th>\n",
       "      <td>1.000000e+06</td>\n",
       "    </tr>\n",
       "    <tr>\n",
       "      <th>2017-06-30</th>\n",
       "      <td>9.323529e+05</td>\n",
       "    </tr>\n",
       "    <tr>\n",
       "      <th>2017-09-30</th>\n",
       "      <td>6.298173e+05</td>\n",
       "    </tr>\n",
       "    <tr>\n",
       "      <th>2017-12-31</th>\n",
       "      <td>1.592270e+06</td>\n",
       "    </tr>\n",
       "    <tr>\n",
       "      <th>2018-03-31</th>\n",
       "      <td>1.236890e+06</td>\n",
       "    </tr>\n",
       "  </tbody>\n",
       "</table>\n",
       "</div>"
      ],
      "text/plain": [
       "               final NAV\n",
       "Date                    \n",
       "2017-03-31  1.000000e+06\n",
       "2017-06-30  9.323529e+05\n",
       "2017-09-30  6.298173e+05\n",
       "2017-12-31  1.592270e+06\n",
       "2018-03-31  1.236890e+06"
      ]
     },
     "execution_count": 6,
     "metadata": {},
     "output_type": "execute_result"
    }
   ],
   "source": [
    "NAV.head()"
   ]
  },
  {
   "cell_type": "code",
   "execution_count": 7,
   "metadata": {},
   "outputs": [
    {
     "data": {
      "text/plain": [
       "final NAV    float64\n",
       "dtype: object"
      ]
     },
     "execution_count": 7,
     "metadata": {},
     "output_type": "execute_result"
    }
   ],
   "source": [
    "NAV.dtypes"
   ]
  },
  {
   "cell_type": "code",
   "execution_count": 8,
   "metadata": {},
   "outputs": [],
   "source": [
    "# S&P 500 import and resample it quarter\n",
    "SP = pd.read_csv('../dataset/s_and_p.csv', parse_dates=['Date'], index_col = 'Date')"
   ]
  },
  {
   "cell_type": "code",
   "execution_count": 9,
   "metadata": {},
   "outputs": [
    {
     "data": {
      "text/plain": [
       "Open         float64\n",
       "High         float64\n",
       "Low          float64\n",
       "Close        float64\n",
       "Adj Close    float64\n",
       "Volume         int64\n",
       "dtype: object"
      ]
     },
     "execution_count": 9,
     "metadata": {},
     "output_type": "execute_result"
    }
   ],
   "source": [
    "SP.dtypes"
   ]
  },
  {
   "cell_type": "code",
   "execution_count": 10,
   "metadata": {},
   "outputs": [
    {
     "data": {
      "text/html": [
       "<div>\n",
       "<style scoped>\n",
       "    .dataframe tbody tr th:only-of-type {\n",
       "        vertical-align: middle;\n",
       "    }\n",
       "\n",
       "    .dataframe tbody tr th {\n",
       "        vertical-align: top;\n",
       "    }\n",
       "\n",
       "    .dataframe thead th {\n",
       "        text-align: right;\n",
       "    }\n",
       "</style>\n",
       "<table border=\"1\" class=\"dataframe\">\n",
       "  <thead>\n",
       "    <tr style=\"text-align: right;\">\n",
       "      <th></th>\n",
       "      <th>Open</th>\n",
       "      <th>High</th>\n",
       "      <th>Low</th>\n",
       "      <th>Close</th>\n",
       "      <th>Adj Close</th>\n",
       "      <th>Volume</th>\n",
       "    </tr>\n",
       "    <tr>\n",
       "      <th>Date</th>\n",
       "      <th></th>\n",
       "      <th></th>\n",
       "      <th></th>\n",
       "      <th></th>\n",
       "      <th></th>\n",
       "      <th></th>\n",
       "    </tr>\n",
       "  </thead>\n",
       "  <tbody>\n",
       "    <tr>\n",
       "      <th>2017-03-31</th>\n",
       "      <td>2364.820068</td>\n",
       "      <td>2370.350098</td>\n",
       "      <td>2362.600098</td>\n",
       "      <td>2362.719971</td>\n",
       "      <td>2362.719971</td>\n",
       "      <td>3354110000</td>\n",
       "    </tr>\n",
       "    <tr>\n",
       "      <th>2017-04-03</th>\n",
       "      <td>2362.340088</td>\n",
       "      <td>2365.870117</td>\n",
       "      <td>2344.729980</td>\n",
       "      <td>2358.840088</td>\n",
       "      <td>2358.840088</td>\n",
       "      <td>3416400000</td>\n",
       "    </tr>\n",
       "    <tr>\n",
       "      <th>2017-04-04</th>\n",
       "      <td>2354.760010</td>\n",
       "      <td>2360.530029</td>\n",
       "      <td>2350.719971</td>\n",
       "      <td>2360.159912</td>\n",
       "      <td>2360.159912</td>\n",
       "      <td>3206240000</td>\n",
       "    </tr>\n",
       "    <tr>\n",
       "      <th>2017-04-05</th>\n",
       "      <td>2366.590088</td>\n",
       "      <td>2378.360107</td>\n",
       "      <td>2350.520020</td>\n",
       "      <td>2352.949951</td>\n",
       "      <td>2352.949951</td>\n",
       "      <td>3770520000</td>\n",
       "    </tr>\n",
       "    <tr>\n",
       "      <th>2017-04-06</th>\n",
       "      <td>2353.790039</td>\n",
       "      <td>2364.159912</td>\n",
       "      <td>2348.899902</td>\n",
       "      <td>2357.489990</td>\n",
       "      <td>2357.489990</td>\n",
       "      <td>3201920000</td>\n",
       "    </tr>\n",
       "  </tbody>\n",
       "</table>\n",
       "</div>"
      ],
      "text/plain": [
       "                   Open         High          Low        Close    Adj Close  \\\n",
       "Date                                                                          \n",
       "2017-03-31  2364.820068  2370.350098  2362.600098  2362.719971  2362.719971   \n",
       "2017-04-03  2362.340088  2365.870117  2344.729980  2358.840088  2358.840088   \n",
       "2017-04-04  2354.760010  2360.530029  2350.719971  2360.159912  2360.159912   \n",
       "2017-04-05  2366.590088  2378.360107  2350.520020  2352.949951  2352.949951   \n",
       "2017-04-06  2353.790039  2364.159912  2348.899902  2357.489990  2357.489990   \n",
       "\n",
       "                Volume  \n",
       "Date                    \n",
       "2017-03-31  3354110000  \n",
       "2017-04-03  3416400000  \n",
       "2017-04-04  3206240000  \n",
       "2017-04-05  3770520000  \n",
       "2017-04-06  3201920000  "
      ]
     },
     "execution_count": 10,
     "metadata": {},
     "output_type": "execute_result"
    }
   ],
   "source": [
    "SP.head()"
   ]
  },
  {
   "cell_type": "code",
   "execution_count": 11,
   "metadata": {},
   "outputs": [],
   "source": [
    "Quarterly_resampled_data = SP.Close.resample('Q').mean() \n",
    "Quarterly_resampled_data\n",
    "Q = pd.DataFrame(Quarterly_resampled_data)\n",
    "Q['percentage'] = Q['Close'].pct_change()\n",
    "Q.fillna(value = 0, inplace=True)"
   ]
  },
  {
   "cell_type": "code",
   "execution_count": 12,
   "metadata": {},
   "outputs": [
    {
     "data": {
      "text/html": [
       "<div>\n",
       "<style scoped>\n",
       "    .dataframe tbody tr th:only-of-type {\n",
       "        vertical-align: middle;\n",
       "    }\n",
       "\n",
       "    .dataframe tbody tr th {\n",
       "        vertical-align: top;\n",
       "    }\n",
       "\n",
       "    .dataframe thead th {\n",
       "        text-align: right;\n",
       "    }\n",
       "</style>\n",
       "<table border=\"1\" class=\"dataframe\">\n",
       "  <thead>\n",
       "    <tr style=\"text-align: right;\">\n",
       "      <th></th>\n",
       "      <th>Close</th>\n",
       "      <th>percentage</th>\n",
       "    </tr>\n",
       "    <tr>\n",
       "      <th>Date</th>\n",
       "      <th></th>\n",
       "      <th></th>\n",
       "    </tr>\n",
       "  </thead>\n",
       "  <tbody>\n",
       "    <tr>\n",
       "      <th>2017-03-31</th>\n",
       "      <td>2362.719971</td>\n",
       "      <td>0.000000</td>\n",
       "    </tr>\n",
       "    <tr>\n",
       "      <th>2017-06-30</th>\n",
       "      <td>2397.970936</td>\n",
       "      <td>0.014920</td>\n",
       "    </tr>\n",
       "    <tr>\n",
       "      <th>2017-09-30</th>\n",
       "      <td>2467.174626</td>\n",
       "      <td>0.028859</td>\n",
       "    </tr>\n",
       "    <tr>\n",
       "      <th>2017-12-31</th>\n",
       "      <td>2603.277317</td>\n",
       "      <td>0.055165</td>\n",
       "    </tr>\n",
       "    <tr>\n",
       "      <th>2018-03-31</th>\n",
       "      <td>2733.476723</td>\n",
       "      <td>0.050014</td>\n",
       "    </tr>\n",
       "  </tbody>\n",
       "</table>\n",
       "</div>"
      ],
      "text/plain": [
       "                  Close  percentage\n",
       "Date                               \n",
       "2017-03-31  2362.719971    0.000000\n",
       "2017-06-30  2397.970936    0.014920\n",
       "2017-09-30  2467.174626    0.028859\n",
       "2017-12-31  2603.277317    0.055165\n",
       "2018-03-31  2733.476723    0.050014"
      ]
     },
     "execution_count": 12,
     "metadata": {},
     "output_type": "execute_result"
    }
   ],
   "source": [
    "Q.head()"
   ]
  },
  {
   "cell_type": "code",
   "execution_count": 13,
   "metadata": {},
   "outputs": [
    {
     "data": {
      "text/plain": [
       "1000000"
      ]
     },
     "execution_count": 13,
     "metadata": {},
     "output_type": "execute_result"
    }
   ],
   "source": [
    "profit_percentage = list (Q['percentage'])\n",
    "NAV_end = [1000000]\n",
    "NAV_end[0]"
   ]
  },
  {
   "cell_type": "code",
   "execution_count": 14,
   "metadata": {},
   "outputs": [
    {
     "name": "stdout",
     "output_type": "stream",
     "text": [
      "0.0\n",
      "0\n",
      "0.014919654064686982\n",
      "0\n",
      "0.028859270052686847\n",
      "0\n",
      "0.05516540609515852\n",
      "0\n",
      "0.05001365208884878\n",
      "0\n",
      "-0.011101421741803508\n",
      "0\n",
      "0.05418537717929639\n",
      "0\n",
      "-0.05287567641320445\n",
      "0\n",
      "0.008180136883460642\n",
      "0\n",
      "0.059288160301491866\n",
      "0\n",
      "0.026197104649567038\n",
      "0\n",
      "0.04223330421986127\n",
      "0\n",
      "-0.008721556599585067\n",
      "0\n",
      "-0.040637743914149094\n",
      "0\n",
      "0.13216401856366167\n",
      "0\n"
     ]
    }
   ],
   "source": [
    "i = 1\n",
    "for i in profit_percentage:\n",
    "    print (i)\n",
    "    j = 0\n",
    "    print(j)\n",
    "    period_NAV = NAV_end[j]*(1+i)\n",
    "    NAV_end.append(period_NAV)\n",
    "    \n",
    "    j=j+1\n"
   ]
  },
  {
   "cell_type": "code",
   "execution_count": 15,
   "metadata": {},
   "outputs": [
    {
     "data": {
      "text/plain": [
       "1000000"
      ]
     },
     "execution_count": 15,
     "metadata": {},
     "output_type": "execute_result"
    }
   ],
   "source": [
    "NAV_end.pop(0)"
   ]
  },
  {
   "cell_type": "code",
   "execution_count": 16,
   "metadata": {},
   "outputs": [
    {
     "data": {
      "text/plain": [
       "[1000000.0,\n",
       " 1014919.654064687,\n",
       " 1028859.2700526868,\n",
       " 1055165.4060951585,\n",
       " 1050013.6520888489,\n",
       " 988898.5782581965,\n",
       " 1054185.3771792965,\n",
       " 947124.3235867956,\n",
       " 1008180.1368834607,\n",
       " 1059288.1603014919,\n",
       " 1026197.104649567,\n",
       " 1042233.3042198613,\n",
       " 991278.4434004149,\n",
       " 959362.2560858509,\n",
       " 1132164.0185636617]"
      ]
     },
     "execution_count": 16,
     "metadata": {},
     "output_type": "execute_result"
    }
   ],
   "source": [
    "NAV_end"
   ]
  },
  {
   "cell_type": "code",
   "execution_count": 17,
   "metadata": {},
   "outputs": [],
   "source": [
    "Q['S&P final NAV'] = NAV_end"
   ]
  },
  {
   "cell_type": "code",
   "execution_count": 18,
   "metadata": {},
   "outputs": [
    {
     "data": {
      "text/html": [
       "<div>\n",
       "<style scoped>\n",
       "    .dataframe tbody tr th:only-of-type {\n",
       "        vertical-align: middle;\n",
       "    }\n",
       "\n",
       "    .dataframe tbody tr th {\n",
       "        vertical-align: top;\n",
       "    }\n",
       "\n",
       "    .dataframe thead th {\n",
       "        text-align: right;\n",
       "    }\n",
       "</style>\n",
       "<table border=\"1\" class=\"dataframe\">\n",
       "  <thead>\n",
       "    <tr style=\"text-align: right;\">\n",
       "      <th></th>\n",
       "      <th>Close</th>\n",
       "      <th>percentage</th>\n",
       "      <th>S&amp;P final NAV</th>\n",
       "    </tr>\n",
       "    <tr>\n",
       "      <th>Date</th>\n",
       "      <th></th>\n",
       "      <th></th>\n",
       "      <th></th>\n",
       "    </tr>\n",
       "  </thead>\n",
       "  <tbody>\n",
       "    <tr>\n",
       "      <th>2017-03-31</th>\n",
       "      <td>2362.719971</td>\n",
       "      <td>0.000000</td>\n",
       "      <td>1.000000e+06</td>\n",
       "    </tr>\n",
       "    <tr>\n",
       "      <th>2017-06-30</th>\n",
       "      <td>2397.970936</td>\n",
       "      <td>0.014920</td>\n",
       "      <td>1.014920e+06</td>\n",
       "    </tr>\n",
       "    <tr>\n",
       "      <th>2017-09-30</th>\n",
       "      <td>2467.174626</td>\n",
       "      <td>0.028859</td>\n",
       "      <td>1.028859e+06</td>\n",
       "    </tr>\n",
       "    <tr>\n",
       "      <th>2017-12-31</th>\n",
       "      <td>2603.277317</td>\n",
       "      <td>0.055165</td>\n",
       "      <td>1.055165e+06</td>\n",
       "    </tr>\n",
       "    <tr>\n",
       "      <th>2018-03-31</th>\n",
       "      <td>2733.476723</td>\n",
       "      <td>0.050014</td>\n",
       "      <td>1.050014e+06</td>\n",
       "    </tr>\n",
       "    <tr>\n",
       "      <th>2018-06-30</th>\n",
       "      <td>2703.131245</td>\n",
       "      <td>-0.011101</td>\n",
       "      <td>9.888986e+05</td>\n",
       "    </tr>\n",
       "    <tr>\n",
       "      <th>2018-09-30</th>\n",
       "      <td>2849.601431</td>\n",
       "      <td>0.054185</td>\n",
       "      <td>1.054185e+06</td>\n",
       "    </tr>\n",
       "    <tr>\n",
       "      <th>2018-12-31</th>\n",
       "      <td>2698.926828</td>\n",
       "      <td>-0.052876</td>\n",
       "      <td>9.471243e+05</td>\n",
       "    </tr>\n",
       "    <tr>\n",
       "      <th>2019-03-31</th>\n",
       "      <td>2721.004418</td>\n",
       "      <td>0.008180</td>\n",
       "      <td>1.008180e+06</td>\n",
       "    </tr>\n",
       "    <tr>\n",
       "      <th>2019-06-30</th>\n",
       "      <td>2882.327765</td>\n",
       "      <td>0.059288</td>\n",
       "      <td>1.059288e+06</td>\n",
       "    </tr>\n",
       "    <tr>\n",
       "      <th>2019-09-30</th>\n",
       "      <td>2957.836407</td>\n",
       "      <td>0.026197</td>\n",
       "      <td>1.026197e+06</td>\n",
       "    </tr>\n",
       "    <tr>\n",
       "      <th>2019-12-31</th>\n",
       "      <td>3082.755611</td>\n",
       "      <td>0.042233</td>\n",
       "      <td>1.042233e+06</td>\n",
       "    </tr>\n",
       "    <tr>\n",
       "      <th>2020-03-31</th>\n",
       "      <td>3055.869184</td>\n",
       "      <td>-0.008722</td>\n",
       "      <td>9.912784e+05</td>\n",
       "    </tr>\n",
       "    <tr>\n",
       "      <th>2020-06-30</th>\n",
       "      <td>2931.685555</td>\n",
       "      <td>-0.040638</td>\n",
       "      <td>9.593623e+05</td>\n",
       "    </tr>\n",
       "    <tr>\n",
       "      <th>2020-09-30</th>\n",
       "      <td>3319.148899</td>\n",
       "      <td>0.132164</td>\n",
       "      <td>1.132164e+06</td>\n",
       "    </tr>\n",
       "  </tbody>\n",
       "</table>\n",
       "</div>"
      ],
      "text/plain": [
       "                  Close  percentage  S&P final NAV\n",
       "Date                                              \n",
       "2017-03-31  2362.719971    0.000000   1.000000e+06\n",
       "2017-06-30  2397.970936    0.014920   1.014920e+06\n",
       "2017-09-30  2467.174626    0.028859   1.028859e+06\n",
       "2017-12-31  2603.277317    0.055165   1.055165e+06\n",
       "2018-03-31  2733.476723    0.050014   1.050014e+06\n",
       "2018-06-30  2703.131245   -0.011101   9.888986e+05\n",
       "2018-09-30  2849.601431    0.054185   1.054185e+06\n",
       "2018-12-31  2698.926828   -0.052876   9.471243e+05\n",
       "2019-03-31  2721.004418    0.008180   1.008180e+06\n",
       "2019-06-30  2882.327765    0.059288   1.059288e+06\n",
       "2019-09-30  2957.836407    0.026197   1.026197e+06\n",
       "2019-12-31  3082.755611    0.042233   1.042233e+06\n",
       "2020-03-31  3055.869184   -0.008722   9.912784e+05\n",
       "2020-06-30  2931.685555   -0.040638   9.593623e+05\n",
       "2020-09-30  3319.148899    0.132164   1.132164e+06"
      ]
     },
     "execution_count": 18,
     "metadata": {},
     "output_type": "execute_result"
    }
   ],
   "source": [
    "Q"
   ]
  },
  {
   "cell_type": "code",
   "execution_count": 19,
   "metadata": {},
   "outputs": [
    {
     "data": {
      "text/html": [
       "<div>\n",
       "<style scoped>\n",
       "    .dataframe tbody tr th:only-of-type {\n",
       "        vertical-align: middle;\n",
       "    }\n",
       "\n",
       "    .dataframe tbody tr th {\n",
       "        vertical-align: top;\n",
       "    }\n",
       "\n",
       "    .dataframe thead th {\n",
       "        text-align: right;\n",
       "    }\n",
       "</style>\n",
       "<table border=\"1\" class=\"dataframe\">\n",
       "  <thead>\n",
       "    <tr style=\"text-align: right;\">\n",
       "      <th></th>\n",
       "      <th>final NAV</th>\n",
       "    </tr>\n",
       "    <tr>\n",
       "      <th>Date</th>\n",
       "      <th></th>\n",
       "    </tr>\n",
       "  </thead>\n",
       "  <tbody>\n",
       "    <tr>\n",
       "      <th>2017-03-31</th>\n",
       "      <td>1.000000e+06</td>\n",
       "    </tr>\n",
       "    <tr>\n",
       "      <th>2017-06-30</th>\n",
       "      <td>9.323529e+05</td>\n",
       "    </tr>\n",
       "    <tr>\n",
       "      <th>2017-09-30</th>\n",
       "      <td>6.298173e+05</td>\n",
       "    </tr>\n",
       "    <tr>\n",
       "      <th>2017-12-31</th>\n",
       "      <td>1.592270e+06</td>\n",
       "    </tr>\n",
       "    <tr>\n",
       "      <th>2018-03-31</th>\n",
       "      <td>1.236890e+06</td>\n",
       "    </tr>\n",
       "  </tbody>\n",
       "</table>\n",
       "</div>"
      ],
      "text/plain": [
       "               final NAV\n",
       "Date                    \n",
       "2017-03-31  1.000000e+06\n",
       "2017-06-30  9.323529e+05\n",
       "2017-09-30  6.298173e+05\n",
       "2017-12-31  1.592270e+06\n",
       "2018-03-31  1.236890e+06"
      ]
     },
     "execution_count": 19,
     "metadata": {},
     "output_type": "execute_result"
    }
   ],
   "source": [
    "#create a new dataframe called df and fill it in with the 2 graphs\n",
    "df = pd.DataFrame(NAV['final NAV'])\n",
    "df.head()"
   ]
  },
  {
   "cell_type": "code",
   "execution_count": 20,
   "metadata": {},
   "outputs": [
    {
     "data": {
      "text/html": [
       "<div>\n",
       "<style scoped>\n",
       "    .dataframe tbody tr th:only-of-type {\n",
       "        vertical-align: middle;\n",
       "    }\n",
       "\n",
       "    .dataframe tbody tr th {\n",
       "        vertical-align: top;\n",
       "    }\n",
       "\n",
       "    .dataframe thead th {\n",
       "        text-align: right;\n",
       "    }\n",
       "</style>\n",
       "<table border=\"1\" class=\"dataframe\">\n",
       "  <thead>\n",
       "    <tr style=\"text-align: right;\">\n",
       "      <th></th>\n",
       "      <th>final NAV</th>\n",
       "      <th>S&amp;P final NAV</th>\n",
       "    </tr>\n",
       "    <tr>\n",
       "      <th>Date</th>\n",
       "      <th></th>\n",
       "      <th></th>\n",
       "    </tr>\n",
       "  </thead>\n",
       "  <tbody>\n",
       "    <tr>\n",
       "      <th>2017-03-31</th>\n",
       "      <td>1.000000e+06</td>\n",
       "      <td>1.000000e+06</td>\n",
       "    </tr>\n",
       "    <tr>\n",
       "      <th>2017-06-30</th>\n",
       "      <td>9.323529e+05</td>\n",
       "      <td>1.014920e+06</td>\n",
       "    </tr>\n",
       "    <tr>\n",
       "      <th>2017-09-30</th>\n",
       "      <td>6.298173e+05</td>\n",
       "      <td>1.028859e+06</td>\n",
       "    </tr>\n",
       "    <tr>\n",
       "      <th>2017-12-31</th>\n",
       "      <td>1.592270e+06</td>\n",
       "      <td>1.055165e+06</td>\n",
       "    </tr>\n",
       "    <tr>\n",
       "      <th>2018-03-31</th>\n",
       "      <td>1.236890e+06</td>\n",
       "      <td>1.050014e+06</td>\n",
       "    </tr>\n",
       "    <tr>\n",
       "      <th>2018-06-30</th>\n",
       "      <td>1.378765e+06</td>\n",
       "      <td>9.888986e+05</td>\n",
       "    </tr>\n",
       "    <tr>\n",
       "      <th>2018-09-30</th>\n",
       "      <td>4.314754e+06</td>\n",
       "      <td>1.054185e+06</td>\n",
       "    </tr>\n",
       "    <tr>\n",
       "      <th>2018-12-31</th>\n",
       "      <td>2.401436e+06</td>\n",
       "      <td>9.471243e+05</td>\n",
       "    </tr>\n",
       "    <tr>\n",
       "      <th>2019-03-31</th>\n",
       "      <td>8.903820e+05</td>\n",
       "      <td>1.008180e+06</td>\n",
       "    </tr>\n",
       "    <tr>\n",
       "      <th>2019-06-30</th>\n",
       "      <td>3.386768e+06</td>\n",
       "      <td>1.059288e+06</td>\n",
       "    </tr>\n",
       "    <tr>\n",
       "      <th>2019-09-30</th>\n",
       "      <td>3.156377e+05</td>\n",
       "      <td>1.026197e+06</td>\n",
       "    </tr>\n",
       "    <tr>\n",
       "      <th>2019-12-31</th>\n",
       "      <td>8.693301e+05</td>\n",
       "      <td>1.042233e+06</td>\n",
       "    </tr>\n",
       "    <tr>\n",
       "      <th>2020-03-31</th>\n",
       "      <td>1.088116e+06</td>\n",
       "      <td>9.912784e+05</td>\n",
       "    </tr>\n",
       "    <tr>\n",
       "      <th>2020-06-30</th>\n",
       "      <td>6.172101e+05</td>\n",
       "      <td>9.593623e+05</td>\n",
       "    </tr>\n",
       "    <tr>\n",
       "      <th>2020-09-30</th>\n",
       "      <td>1.380012e+06</td>\n",
       "      <td>1.132164e+06</td>\n",
       "    </tr>\n",
       "  </tbody>\n",
       "</table>\n",
       "</div>"
      ],
      "text/plain": [
       "               final NAV  S&P final NAV\n",
       "Date                                   \n",
       "2017-03-31  1.000000e+06   1.000000e+06\n",
       "2017-06-30  9.323529e+05   1.014920e+06\n",
       "2017-09-30  6.298173e+05   1.028859e+06\n",
       "2017-12-31  1.592270e+06   1.055165e+06\n",
       "2018-03-31  1.236890e+06   1.050014e+06\n",
       "2018-06-30  1.378765e+06   9.888986e+05\n",
       "2018-09-30  4.314754e+06   1.054185e+06\n",
       "2018-12-31  2.401436e+06   9.471243e+05\n",
       "2019-03-31  8.903820e+05   1.008180e+06\n",
       "2019-06-30  3.386768e+06   1.059288e+06\n",
       "2019-09-30  3.156377e+05   1.026197e+06\n",
       "2019-12-31  8.693301e+05   1.042233e+06\n",
       "2020-03-31  1.088116e+06   9.912784e+05\n",
       "2020-06-30  6.172101e+05   9.593623e+05\n",
       "2020-09-30  1.380012e+06   1.132164e+06"
      ]
     },
     "execution_count": 20,
     "metadata": {},
     "output_type": "execute_result"
    }
   ],
   "source": [
    "df['S&P final NAV'] = Q['S&P final NAV']\n",
    "df"
   ]
  },
  {
   "cell_type": "markdown",
   "metadata": {},
   "source": [
    "# Cumulative returns "
   ]
  },
  {
   "cell_type": "code",
   "execution_count": 21,
   "metadata": {},
   "outputs": [
    {
     "data": {
      "text/plain": [
       "<AxesSubplot:xlabel='Date'>"
      ]
     },
     "execution_count": 21,
     "metadata": {},
     "output_type": "execute_result"
    },
    {
     "data": {
      "image/png": "[encoded data removed]",
      "text/plain": [
       "<Figure size 1008x360 with 1 Axes>"
      ]
     },
     "metadata": {
      "needs_background": "light"
     },
     "output_type": "display_data"
    }
   ],
   "source": [
    "#plot the graph\n",
    "fig = plt.figure(figsize=(14,5))\n",
    "sns.lineplot(data = df)"
   ]
  },
  {
   "cell_type": "code",
   "execution_count": 22,
   "metadata": {},
   "outputs": [],
   "source": [
    "# let us zoom in on the final year\n",
    "df2 = df[10:]"
   ]
  },
  {
   "cell_type": "code",
   "execution_count": 23,
   "metadata": {},
   "outputs": [
    {
     "data": {
      "text/html": [
       "<div>\n",
       "<style scoped>\n",
       "    .dataframe tbody tr th:only-of-type {\n",
       "        vertical-align: middle;\n",
       "    }\n",
       "\n",
       "    .dataframe tbody tr th {\n",
       "        vertical-align: top;\n",
       "    }\n",
       "\n",
       "    .dataframe thead th {\n",
       "        text-align: right;\n",
       "    }\n",
       "</style>\n",
       "<table border=\"1\" class=\"dataframe\">\n",
       "  <thead>\n",
       "    <tr style=\"text-align: right;\">\n",
       "      <th></th>\n",
       "      <th>final NAV</th>\n",
       "      <th>S&amp;P final NAV</th>\n",
       "    </tr>\n",
       "    <tr>\n",
       "      <th>Date</th>\n",
       "      <th></th>\n",
       "      <th></th>\n",
       "    </tr>\n",
       "  </thead>\n",
       "  <tbody>\n",
       "    <tr>\n",
       "      <th>2019-09-30</th>\n",
       "      <td>3.156377e+05</td>\n",
       "      <td>1.026197e+06</td>\n",
       "    </tr>\n",
       "    <tr>\n",
       "      <th>2019-12-31</th>\n",
       "      <td>8.693301e+05</td>\n",
       "      <td>1.042233e+06</td>\n",
       "    </tr>\n",
       "    <tr>\n",
       "      <th>2020-03-31</th>\n",
       "      <td>1.088116e+06</td>\n",
       "      <td>9.912784e+05</td>\n",
       "    </tr>\n",
       "    <tr>\n",
       "      <th>2020-06-30</th>\n",
       "      <td>6.172101e+05</td>\n",
       "      <td>9.593623e+05</td>\n",
       "    </tr>\n",
       "    <tr>\n",
       "      <th>2020-09-30</th>\n",
       "      <td>1.380012e+06</td>\n",
       "      <td>1.132164e+06</td>\n",
       "    </tr>\n",
       "  </tbody>\n",
       "</table>\n",
       "</div>"
      ],
      "text/plain": [
       "               final NAV  S&P final NAV\n",
       "Date                                   \n",
       "2019-09-30  3.156377e+05   1.026197e+06\n",
       "2019-12-31  8.693301e+05   1.042233e+06\n",
       "2020-03-31  1.088116e+06   9.912784e+05\n",
       "2020-06-30  6.172101e+05   9.593623e+05\n",
       "2020-09-30  1.380012e+06   1.132164e+06"
      ]
     },
     "execution_count": 23,
     "metadata": {},
     "output_type": "execute_result"
    }
   ],
   "source": [
    "df2"
   ]
  },
  {
   "cell_type": "code",
   "execution_count": 24,
   "metadata": {},
   "outputs": [
    {
     "data": {
      "text/plain": [
       "<AxesSubplot:xlabel='Date'>"
      ]
     },
     "execution_count": 24,
     "metadata": {},
     "output_type": "execute_result"
    },
    {
     "data": {
      "image/png": "[encoded data removed]",
      "text/plain": [
       "<Figure size 1008x360 with 1 Axes>"
      ]
     },
     "metadata": {
      "needs_background": "light"
     },
     "output_type": "display_data"
    }
   ],
   "source": [
    "#plot the final year\n",
    "fig = plt.figure(figsize=(14,5))\n",
    "sns.lineplot(data = df2)"
   ]
  },
  {
   "cell_type": "markdown",
   "metadata": {},
   "source": [
    "# Rolling sharpe ratio"
   ]
  },
  {
   "cell_type": "code",
   "execution_count": 25,
   "metadata": {},
   "outputs": [
    {
     "data": {
      "image/png": "[encoded data removed]",
      "text/plain": [
       "<IPython.core.display.Image object>"
      ]
     },
     "execution_count": 25,
     "metadata": {},
     "output_type": "execute_result"
    }
   ],
   "source": [
    "from IPython.display import Image\n",
    "Image(filename='../pictures/sharpe_ratio.png')\n",
    "# sharpe ratio explained"
   ]
  },
  {
   "cell_type": "markdown",
   "metadata": {},
   "source": [
    "### create a new dataframe"
   ]
  },
  {
   "cell_type": "code",
   "execution_count": 26,
   "metadata": {},
   "outputs": [
    {
     "data": {
      "text/html": [
       "<div>\n",
       "<style scoped>\n",
       "    .dataframe tbody tr th:only-of-type {\n",
       "        vertical-align: middle;\n",
       "    }\n",
       "\n",
       "    .dataframe tbody tr th {\n",
       "        vertical-align: top;\n",
       "    }\n",
       "\n",
       "    .dataframe thead th {\n",
       "        text-align: right;\n",
       "    }\n",
       "</style>\n",
       "<table border=\"1\" class=\"dataframe\">\n",
       "  <thead>\n",
       "    <tr style=\"text-align: right;\">\n",
       "      <th></th>\n",
       "      <th>Close</th>\n",
       "      <th>percentage</th>\n",
       "      <th>S&amp;P final NAV</th>\n",
       "    </tr>\n",
       "    <tr>\n",
       "      <th>Date</th>\n",
       "      <th></th>\n",
       "      <th></th>\n",
       "      <th></th>\n",
       "    </tr>\n",
       "  </thead>\n",
       "  <tbody>\n",
       "    <tr>\n",
       "      <th>2017-03-31</th>\n",
       "      <td>2362.719971</td>\n",
       "      <td>0.000000</td>\n",
       "      <td>1.000000e+06</td>\n",
       "    </tr>\n",
       "    <tr>\n",
       "      <th>2017-06-30</th>\n",
       "      <td>2397.970936</td>\n",
       "      <td>0.014920</td>\n",
       "      <td>1.014920e+06</td>\n",
       "    </tr>\n",
       "    <tr>\n",
       "      <th>2017-09-30</th>\n",
       "      <td>2467.174626</td>\n",
       "      <td>0.028859</td>\n",
       "      <td>1.028859e+06</td>\n",
       "    </tr>\n",
       "    <tr>\n",
       "      <th>2017-12-31</th>\n",
       "      <td>2603.277317</td>\n",
       "      <td>0.055165</td>\n",
       "      <td>1.055165e+06</td>\n",
       "    </tr>\n",
       "    <tr>\n",
       "      <th>2018-03-31</th>\n",
       "      <td>2733.476723</td>\n",
       "      <td>0.050014</td>\n",
       "      <td>1.050014e+06</td>\n",
       "    </tr>\n",
       "  </tbody>\n",
       "</table>\n",
       "</div>"
      ],
      "text/plain": [
       "                  Close  percentage  S&P final NAV\n",
       "Date                                              \n",
       "2017-03-31  2362.719971    0.000000   1.000000e+06\n",
       "2017-06-30  2397.970936    0.014920   1.014920e+06\n",
       "2017-09-30  2467.174626    0.028859   1.028859e+06\n",
       "2017-12-31  2603.277317    0.055165   1.055165e+06\n",
       "2018-03-31  2733.476723    0.050014   1.050014e+06"
      ]
     },
     "execution_count": 26,
     "metadata": {},
     "output_type": "execute_result"
    }
   ],
   "source": [
    "Q.head()"
   ]
  },
  {
   "cell_type": "code",
   "execution_count": 27,
   "metadata": {},
   "outputs": [
    {
     "data": {
      "text/html": [
       "<div>\n",
       "<style scoped>\n",
       "    .dataframe tbody tr th:only-of-type {\n",
       "        vertical-align: middle;\n",
       "    }\n",
       "\n",
       "    .dataframe tbody tr th {\n",
       "        vertical-align: top;\n",
       "    }\n",
       "\n",
       "    .dataframe thead th {\n",
       "        text-align: right;\n",
       "    }\n",
       "</style>\n",
       "<table border=\"1\" class=\"dataframe\">\n",
       "  <thead>\n",
       "    <tr style=\"text-align: right;\">\n",
       "      <th></th>\n",
       "      <th>percentage</th>\n",
       "    </tr>\n",
       "    <tr>\n",
       "      <th>Date</th>\n",
       "      <th></th>\n",
       "    </tr>\n",
       "  </thead>\n",
       "  <tbody>\n",
       "    <tr>\n",
       "      <th>2017-03-31</th>\n",
       "      <td>0.000000</td>\n",
       "    </tr>\n",
       "    <tr>\n",
       "      <th>2017-06-30</th>\n",
       "      <td>0.014920</td>\n",
       "    </tr>\n",
       "    <tr>\n",
       "      <th>2017-09-30</th>\n",
       "      <td>0.028859</td>\n",
       "    </tr>\n",
       "    <tr>\n",
       "      <th>2017-12-31</th>\n",
       "      <td>0.055165</td>\n",
       "    </tr>\n",
       "    <tr>\n",
       "      <th>2018-03-31</th>\n",
       "      <td>0.050014</td>\n",
       "    </tr>\n",
       "  </tbody>\n",
       "</table>\n",
       "</div>"
      ],
      "text/plain": [
       "            percentage\n",
       "Date                  \n",
       "2017-03-31    0.000000\n",
       "2017-06-30    0.014920\n",
       "2017-09-30    0.028859\n",
       "2017-12-31    0.055165\n",
       "2018-03-31    0.050014"
      ]
     },
     "execution_count": 27,
     "metadata": {},
     "output_type": "execute_result"
    }
   ],
   "source": [
    "df_returns = pd.DataFrame(Q['percentage'])\n",
    "df_returns.head()\n",
    "# initiate a new dataframe called df_returns"
   ]
  },
  {
   "cell_type": "code",
   "execution_count": 28,
   "metadata": {},
   "outputs": [],
   "source": [
    "df_returns.rename(columns =  {'percentage':'S&P % returns'}, inplace=True)\n",
    "#rename it"
   ]
  },
  {
   "cell_type": "code",
   "execution_count": 29,
   "metadata": {},
   "outputs": [
    {
     "data": {
      "text/html": [
       "<div>\n",
       "<style scoped>\n",
       "    .dataframe tbody tr th:only-of-type {\n",
       "        vertical-align: middle;\n",
       "    }\n",
       "\n",
       "    .dataframe tbody tr th {\n",
       "        vertical-align: top;\n",
       "    }\n",
       "\n",
       "    .dataframe thead th {\n",
       "        text-align: right;\n",
       "    }\n",
       "</style>\n",
       "<table border=\"1\" class=\"dataframe\">\n",
       "  <thead>\n",
       "    <tr style=\"text-align: right;\">\n",
       "      <th></th>\n",
       "      <th>Quarter</th>\n",
       "      <th>Pos. Open</th>\n",
       "      <th>Pos. Close</th>\n",
       "      <th>Profit</th>\n",
       "    </tr>\n",
       "  </thead>\n",
       "  <tbody>\n",
       "    <tr>\n",
       "      <th>0</th>\n",
       "      <td>2017-06-30</td>\n",
       "      <td>1.020</td>\n",
       "      <td>1.089</td>\n",
       "      <td>-0.067647</td>\n",
       "    </tr>\n",
       "    <tr>\n",
       "      <th>1</th>\n",
       "      <td>2017-09-30</td>\n",
       "      <td>156.730</td>\n",
       "      <td>163.535</td>\n",
       "      <td>-0.370183</td>\n",
       "    </tr>\n",
       "    <tr>\n",
       "      <th>2</th>\n",
       "      <td>2017-12-31</td>\n",
       "      <td>371.205</td>\n",
       "      <td>365.030</td>\n",
       "      <td>0.592270</td>\n",
       "    </tr>\n",
       "    <tr>\n",
       "      <th>3</th>\n",
       "      <td>2018-03-31</td>\n",
       "      <td>394.545</td>\n",
       "      <td>392.111</td>\n",
       "      <td>0.236890</td>\n",
       "    </tr>\n",
       "    <tr>\n",
       "      <th>4</th>\n",
       "      <td>2018-06-30</td>\n",
       "      <td>290.307</td>\n",
       "      <td>286.512</td>\n",
       "      <td>0.378765</td>\n",
       "    </tr>\n",
       "  </tbody>\n",
       "</table>\n",
       "</div>"
      ],
      "text/plain": [
       "      Quarter  Pos. Open  Pos. Close    Profit\n",
       "0  2017-06-30      1.020       1.089 -0.067647\n",
       "1  2017-09-30    156.730     163.535 -0.370183\n",
       "2  2017-12-31    371.205     365.030  0.592270\n",
       "3  2018-03-31    394.545     392.111  0.236890\n",
       "4  2018-06-30    290.307     286.512  0.378765"
      ]
     },
     "execution_count": 29,
     "metadata": {},
     "output_type": "execute_result"
    }
   ],
   "source": [
    "#read in \n",
    "temp = pd.read_csv('../dataset/Final_by_quarter.csv')\n",
    "temp.head()"
   ]
  },
  {
   "cell_type": "code",
   "execution_count": 31,
   "metadata": {},
   "outputs": [],
   "source": [
    "profit_percent = list(temp['Profit'])\n",
    "profit_percent.insert(0,0)"
   ]
  },
  {
   "cell_type": "code",
   "execution_count": 32,
   "metadata": {},
   "outputs": [
    {
     "data": {
      "text/html": [
       "<div>\n",
       "<style scoped>\n",
       "    .dataframe tbody tr th:only-of-type {\n",
       "        vertical-align: middle;\n",
       "    }\n",
       "\n",
       "    .dataframe tbody tr th {\n",
       "        vertical-align: top;\n",
       "    }\n",
       "\n",
       "    .dataframe thead th {\n",
       "        text-align: right;\n",
       "    }\n",
       "</style>\n",
       "<table border=\"1\" class=\"dataframe\">\n",
       "  <thead>\n",
       "    <tr style=\"text-align: right;\">\n",
       "      <th></th>\n",
       "      <th>S&amp;P % returns</th>\n",
       "    </tr>\n",
       "    <tr>\n",
       "      <th>Date</th>\n",
       "      <th></th>\n",
       "    </tr>\n",
       "  </thead>\n",
       "  <tbody>\n",
       "    <tr>\n",
       "      <th>2017-03-31</th>\n",
       "      <td>0.000000</td>\n",
       "    </tr>\n",
       "    <tr>\n",
       "      <th>2017-06-30</th>\n",
       "      <td>0.014920</td>\n",
       "    </tr>\n",
       "    <tr>\n",
       "      <th>2017-09-30</th>\n",
       "      <td>0.028859</td>\n",
       "    </tr>\n",
       "    <tr>\n",
       "      <th>2017-12-31</th>\n",
       "      <td>0.055165</td>\n",
       "    </tr>\n",
       "    <tr>\n",
       "      <th>2018-03-31</th>\n",
       "      <td>0.050014</td>\n",
       "    </tr>\n",
       "    <tr>\n",
       "      <th>2018-06-30</th>\n",
       "      <td>-0.011101</td>\n",
       "    </tr>\n",
       "    <tr>\n",
       "      <th>2018-09-30</th>\n",
       "      <td>0.054185</td>\n",
       "    </tr>\n",
       "    <tr>\n",
       "      <th>2018-12-31</th>\n",
       "      <td>-0.052876</td>\n",
       "    </tr>\n",
       "    <tr>\n",
       "      <th>2019-03-31</th>\n",
       "      <td>0.008180</td>\n",
       "    </tr>\n",
       "    <tr>\n",
       "      <th>2019-06-30</th>\n",
       "      <td>0.059288</td>\n",
       "    </tr>\n",
       "    <tr>\n",
       "      <th>2019-09-30</th>\n",
       "      <td>0.026197</td>\n",
       "    </tr>\n",
       "    <tr>\n",
       "      <th>2019-12-31</th>\n",
       "      <td>0.042233</td>\n",
       "    </tr>\n",
       "    <tr>\n",
       "      <th>2020-03-31</th>\n",
       "      <td>-0.008722</td>\n",
       "    </tr>\n",
       "    <tr>\n",
       "      <th>2020-06-30</th>\n",
       "      <td>-0.040638</td>\n",
       "    </tr>\n",
       "    <tr>\n",
       "      <th>2020-09-30</th>\n",
       "      <td>0.132164</td>\n",
       "    </tr>\n",
       "  </tbody>\n",
       "</table>\n",
       "</div>"
      ],
      "text/plain": [
       "            S&P % returns\n",
       "Date                     \n",
       "2017-03-31       0.000000\n",
       "2017-06-30       0.014920\n",
       "2017-09-30       0.028859\n",
       "2017-12-31       0.055165\n",
       "2018-03-31       0.050014\n",
       "2018-06-30      -0.011101\n",
       "2018-09-30       0.054185\n",
       "2018-12-31      -0.052876\n",
       "2019-03-31       0.008180\n",
       "2019-06-30       0.059288\n",
       "2019-09-30       0.026197\n",
       "2019-12-31       0.042233\n",
       "2020-03-31      -0.008722\n",
       "2020-06-30      -0.040638\n",
       "2020-09-30       0.132164"
      ]
     },
     "execution_count": 32,
     "metadata": {},
     "output_type": "execute_result"
    }
   ],
   "source": [
    "df_returns"
   ]
  },
  {
   "cell_type": "code",
   "execution_count": 33,
   "metadata": {},
   "outputs": [
    {
     "data": {
      "text/html": [
       "<div>\n",
       "<style scoped>\n",
       "    .dataframe tbody tr th:only-of-type {\n",
       "        vertical-align: middle;\n",
       "    }\n",
       "\n",
       "    .dataframe tbody tr th {\n",
       "        vertical-align: top;\n",
       "    }\n",
       "\n",
       "    .dataframe thead th {\n",
       "        text-align: right;\n",
       "    }\n",
       "</style>\n",
       "<table border=\"1\" class=\"dataframe\">\n",
       "  <thead>\n",
       "    <tr style=\"text-align: right;\">\n",
       "      <th></th>\n",
       "      <th>S&amp;P % returns</th>\n",
       "      <th>strategy % returns</th>\n",
       "    </tr>\n",
       "    <tr>\n",
       "      <th>Date</th>\n",
       "      <th></th>\n",
       "      <th></th>\n",
       "    </tr>\n",
       "  </thead>\n",
       "  <tbody>\n",
       "    <tr>\n",
       "      <th>2017-03-31</th>\n",
       "      <td>0.000000</td>\n",
       "      <td>0.000000</td>\n",
       "    </tr>\n",
       "    <tr>\n",
       "      <th>2017-06-30</th>\n",
       "      <td>0.014920</td>\n",
       "      <td>-0.067647</td>\n",
       "    </tr>\n",
       "    <tr>\n",
       "      <th>2017-09-30</th>\n",
       "      <td>0.028859</td>\n",
       "      <td>-0.370183</td>\n",
       "    </tr>\n",
       "    <tr>\n",
       "      <th>2017-12-31</th>\n",
       "      <td>0.055165</td>\n",
       "      <td>0.592270</td>\n",
       "    </tr>\n",
       "    <tr>\n",
       "      <th>2018-03-31</th>\n",
       "      <td>0.050014</td>\n",
       "      <td>0.236890</td>\n",
       "    </tr>\n",
       "    <tr>\n",
       "      <th>2018-06-30</th>\n",
       "      <td>-0.011101</td>\n",
       "      <td>0.378765</td>\n",
       "    </tr>\n",
       "    <tr>\n",
       "      <th>2018-09-30</th>\n",
       "      <td>0.054185</td>\n",
       "      <td>3.314754</td>\n",
       "    </tr>\n",
       "    <tr>\n",
       "      <th>2018-12-31</th>\n",
       "      <td>-0.052876</td>\n",
       "      <td>1.401436</td>\n",
       "    </tr>\n",
       "    <tr>\n",
       "      <th>2019-03-31</th>\n",
       "      <td>0.008180</td>\n",
       "      <td>-0.109618</td>\n",
       "    </tr>\n",
       "    <tr>\n",
       "      <th>2019-06-30</th>\n",
       "      <td>0.059288</td>\n",
       "      <td>2.386768</td>\n",
       "    </tr>\n",
       "    <tr>\n",
       "      <th>2019-09-30</th>\n",
       "      <td>0.026197</td>\n",
       "      <td>-0.684362</td>\n",
       "    </tr>\n",
       "    <tr>\n",
       "      <th>2019-12-31</th>\n",
       "      <td>0.042233</td>\n",
       "      <td>-0.130670</td>\n",
       "    </tr>\n",
       "    <tr>\n",
       "      <th>2020-03-31</th>\n",
       "      <td>-0.008722</td>\n",
       "      <td>0.088116</td>\n",
       "    </tr>\n",
       "    <tr>\n",
       "      <th>2020-06-30</th>\n",
       "      <td>-0.040638</td>\n",
       "      <td>-0.382790</td>\n",
       "    </tr>\n",
       "    <tr>\n",
       "      <th>2020-09-30</th>\n",
       "      <td>0.132164</td>\n",
       "      <td>0.380012</td>\n",
       "    </tr>\n",
       "  </tbody>\n",
       "</table>\n",
       "</div>"
      ],
      "text/plain": [
       "            S&P % returns  strategy % returns\n",
       "Date                                         \n",
       "2017-03-31       0.000000            0.000000\n",
       "2017-06-30       0.014920           -0.067647\n",
       "2017-09-30       0.028859           -0.370183\n",
       "2017-12-31       0.055165            0.592270\n",
       "2018-03-31       0.050014            0.236890\n",
       "2018-06-30      -0.011101            0.378765\n",
       "2018-09-30       0.054185            3.314754\n",
       "2018-12-31      -0.052876            1.401436\n",
       "2019-03-31       0.008180           -0.109618\n",
       "2019-06-30       0.059288            2.386768\n",
       "2019-09-30       0.026197           -0.684362\n",
       "2019-12-31       0.042233           -0.130670\n",
       "2020-03-31      -0.008722            0.088116\n",
       "2020-06-30      -0.040638           -0.382790\n",
       "2020-09-30       0.132164            0.380012"
      ]
     },
     "execution_count": 33,
     "metadata": {},
     "output_type": "execute_result"
    }
   ],
   "source": [
    "df_returns['strategy % returns'] = profit_percent\n",
    "df_returns"
   ]
  },
  {
   "cell_type": "code",
   "execution_count": 34,
   "metadata": {},
   "outputs": [],
   "source": [
    "def my_rolling_sharpe(y):\n",
    "    return np.sqrt(4) * (y.mean() / y.std()) # we roll over 6 months\n",
    "# create a rolling sharpe ratio"
   ]
  },
  {
   "cell_type": "code",
   "execution_count": 35,
   "metadata": {},
   "outputs": [],
   "source": [
    "df_rs = df_returns"
   ]
  },
  {
   "cell_type": "code",
   "execution_count": 36,
   "metadata": {},
   "outputs": [],
   "source": [
    "# To calculate the Sharpe ratio for a window exactly 6 calendar months wide\n",
    "df_rs['S&P 500 6 months rolling sharpe'] = [my_rolling_sharpe(df_rs.loc[d - pd.offsets.DateOffset(months=6):d, 'S&P % returns']) \n",
    "             for d in df.index]\n",
    "df_rs['Strategy 6 months rolling sharpe'] = [my_rolling_sharpe(df_rs.loc[d - pd.offsets.DateOffset(months=6):d, 'strategy % returns']) \n",
    "             for d in df.index]\n"
   ]
  },
  {
   "cell_type": "code",
   "execution_count": 37,
   "metadata": {},
   "outputs": [
    {
     "data": {
      "text/plain": [
       "<AxesSubplot:xlabel='Date'>"
      ]
     },
     "execution_count": 37,
     "metadata": {},
     "output_type": "execute_result"
    },
    {
     "data": {
      "image/png": "[encoded data removed]",
      "text/plain": [
       "<Figure size 1008x360 with 1 Axes>"
      ]
     },
     "metadata": {
      "needs_background": "light"
     },
     "output_type": "display_data"
    }
   ],
   "source": [
    "# Compare the two windows\n",
    "df_rs.plot(y=['S&P 500 6 months rolling sharpe','Strategy 6 months rolling sharpe'], linewidth=0.5, figsize=(14,5))\n"
   ]
  },
  {
   "cell_type": "code",
   "execution_count": 38,
   "metadata": {},
   "outputs": [
    {
     "data": {
      "text/html": [
       "<div>\n",
       "<style scoped>\n",
       "    .dataframe tbody tr th:only-of-type {\n",
       "        vertical-align: middle;\n",
       "    }\n",
       "\n",
       "    .dataframe tbody tr th {\n",
       "        vertical-align: top;\n",
       "    }\n",
       "\n",
       "    .dataframe thead th {\n",
       "        text-align: right;\n",
       "    }\n",
       "</style>\n",
       "<table border=\"1\" class=\"dataframe\">\n",
       "  <thead>\n",
       "    <tr style=\"text-align: right;\">\n",
       "      <th></th>\n",
       "      <th>S&amp;P % returns</th>\n",
       "      <th>strategy % returns</th>\n",
       "      <th>S&amp;P 500 6 months rolling sharpe</th>\n",
       "      <th>Strategy 6 months rolling sharpe</th>\n",
       "    </tr>\n",
       "    <tr>\n",
       "      <th>Date</th>\n",
       "      <th></th>\n",
       "      <th></th>\n",
       "      <th></th>\n",
       "      <th></th>\n",
       "    </tr>\n",
       "  </thead>\n",
       "  <tbody>\n",
       "    <tr>\n",
       "      <th>2017-03-31</th>\n",
       "      <td>0.000000</td>\n",
       "      <td>0.000000</td>\n",
       "      <td>NaN</td>\n",
       "      <td>NaN</td>\n",
       "    </tr>\n",
       "    <tr>\n",
       "      <th>2017-06-30</th>\n",
       "      <td>0.014920</td>\n",
       "      <td>-0.067647</td>\n",
       "      <td>1.414214</td>\n",
       "      <td>-1.414214</td>\n",
       "    </tr>\n",
       "    <tr>\n",
       "      <th>2017-09-30</th>\n",
       "      <td>0.028859</td>\n",
       "      <td>-0.370183</td>\n",
       "      <td>2.022251</td>\n",
       "      <td>-1.480751</td>\n",
       "    </tr>\n",
       "    <tr>\n",
       "      <th>2017-12-31</th>\n",
       "      <td>0.055165</td>\n",
       "      <td>0.592270</td>\n",
       "      <td>3.227608</td>\n",
       "      <td>0.209200</td>\n",
       "    </tr>\n",
       "    <tr>\n",
       "      <th>2018-03-31</th>\n",
       "      <td>0.050014</td>\n",
       "      <td>0.236890</td>\n",
       "      <td>6.409921</td>\n",
       "      <td>0.628718</td>\n",
       "    </tr>\n",
       "    <tr>\n",
       "      <th>2018-06-30</th>\n",
       "      <td>-0.011101</td>\n",
       "      <td>0.378765</td>\n",
       "      <td>1.701434</td>\n",
       "      <td>4.501579</td>\n",
       "    </tr>\n",
       "    <tr>\n",
       "      <th>2018-09-30</th>\n",
       "      <td>0.054185</td>\n",
       "      <td>3.314754</td>\n",
       "      <td>1.698150</td>\n",
       "      <td>1.508072</td>\n",
       "    </tr>\n",
       "    <tr>\n",
       "      <th>2018-12-31</th>\n",
       "      <td>-0.052876</td>\n",
       "      <td>1.401436</td>\n",
       "      <td>-0.120977</td>\n",
       "      <td>2.279102</td>\n",
       "    </tr>\n",
       "    <tr>\n",
       "      <th>2019-03-31</th>\n",
       "      <td>0.008180</td>\n",
       "      <td>-0.109618</td>\n",
       "      <td>0.117799</td>\n",
       "      <td>1.789530</td>\n",
       "    </tr>\n",
       "    <tr>\n",
       "      <th>2019-06-30</th>\n",
       "      <td>0.059288</td>\n",
       "      <td>2.386768</td>\n",
       "      <td>0.173241</td>\n",
       "      <td>1.950389</td>\n",
       "    </tr>\n",
       "    <tr>\n",
       "      <th>2019-09-30</th>\n",
       "      <td>0.026197</td>\n",
       "      <td>-0.684362</td>\n",
       "      <td>2.408916</td>\n",
       "      <td>0.650372</td>\n",
       "    </tr>\n",
       "    <tr>\n",
       "      <th>2019-12-31</th>\n",
       "      <td>0.042233</td>\n",
       "      <td>-0.130670</td>\n",
       "      <td>5.145334</td>\n",
       "      <td>0.640142</td>\n",
       "    </tr>\n",
       "    <tr>\n",
       "      <th>2020-03-31</th>\n",
       "      <td>-0.008722</td>\n",
       "      <td>0.088116</td>\n",
       "      <td>1.527822</td>\n",
       "      <td>-1.217140</td>\n",
       "    </tr>\n",
       "    <tr>\n",
       "      <th>2020-06-30</th>\n",
       "      <td>-0.040638</td>\n",
       "      <td>-0.382790</td>\n",
       "      <td>-0.113657</td>\n",
       "      <td>-1.203322</td>\n",
       "    </tr>\n",
       "    <tr>\n",
       "      <th>2020-09-30</th>\n",
       "      <td>0.132164</td>\n",
       "      <td>0.380012</td>\n",
       "      <td>0.600366</td>\n",
       "      <td>0.147816</td>\n",
       "    </tr>\n",
       "  </tbody>\n",
       "</table>\n",
       "</div>"
      ],
      "text/plain": [
       "            S&P % returns  strategy % returns  \\\n",
       "Date                                            \n",
       "2017-03-31       0.000000            0.000000   \n",
       "2017-06-30       0.014920           -0.067647   \n",
       "2017-09-30       0.028859           -0.370183   \n",
       "2017-12-31       0.055165            0.592270   \n",
       "2018-03-31       0.050014            0.236890   \n",
       "2018-06-30      -0.011101            0.378765   \n",
       "2018-09-30       0.054185            3.314754   \n",
       "2018-12-31      -0.052876            1.401436   \n",
       "2019-03-31       0.008180           -0.109618   \n",
       "2019-06-30       0.059288            2.386768   \n",
       "2019-09-30       0.026197           -0.684362   \n",
       "2019-12-31       0.042233           -0.130670   \n",
       "2020-03-31      -0.008722            0.088116   \n",
       "2020-06-30      -0.040638           -0.382790   \n",
       "2020-09-30       0.132164            0.380012   \n",
       "\n",
       "            S&P 500 6 months rolling sharpe  Strategy 6 months rolling sharpe  \n",
       "Date                                                                           \n",
       "2017-03-31                              NaN                               NaN  \n",
       "2017-06-30                         1.414214                         -1.414214  \n",
       "2017-09-30                         2.022251                         -1.480751  \n",
       "2017-12-31                         3.227608                          0.209200  \n",
       "2018-03-31                         6.409921                          0.628718  \n",
       "2018-06-30                         1.701434                          4.501579  \n",
       "2018-09-30                         1.698150                          1.508072  \n",
       "2018-12-31                        -0.120977                          2.279102  \n",
       "2019-03-31                         0.117799                          1.789530  \n",
       "2019-06-30                         0.173241                          1.950389  \n",
       "2019-09-30                         2.408916                          0.650372  \n",
       "2019-12-31                         5.145334                          0.640142  \n",
       "2020-03-31                         1.527822                         -1.217140  \n",
       "2020-06-30                        -0.113657                         -1.203322  \n",
       "2020-09-30                         0.600366                          0.147816  "
      ]
     },
     "execution_count": 38,
     "metadata": {},
     "output_type": "execute_result"
    }
   ],
   "source": [
    "df_rs"
   ]
  },
  {
   "cell_type": "code",
   "execution_count": 39,
   "metadata": {},
   "outputs": [
    {
     "data": {
      "text/plain": [
       "1.872315811299582"
      ]
     },
     "execution_count": 39,
     "metadata": {},
     "output_type": "execute_result"
    }
   ],
   "source": [
    "df_rs['S&P 500 6 months rolling sharpe'].mean()"
   ]
  },
  {
   "cell_type": "code",
   "execution_count": 40,
   "metadata": {},
   "outputs": [
    {
     "data": {
      "text/plain": [
       "0.6421066880211074"
      ]
     },
     "execution_count": 40,
     "metadata": {},
     "output_type": "execute_result"
    }
   ],
   "source": [
    "df_rs['Strategy 6 months rolling sharpe'].mean()\n",
    "#average rolling sharpe ratio is lower for my strategy than the S&P"
   ]
  },
  {
   "cell_type": "markdown",
   "metadata": {},
   "source": [
    "# Drawdown"
   ]
  },
  {
   "cell_type": "code",
   "execution_count": null,
   "metadata": {},
   "outputs": [],
   "source": [
    "this one if can't finish just leave it out"
   ]
  },
  {
   "cell_type": "code",
   "execution_count": null,
   "metadata": {},
   "outputs": [],
   "source": [
    "the way i did the drawdown might be wrong, i thiunk need to use percentage instead\n",
    "https://github.com/MISHRA19/Computing-Max-Drawdown-with-Python/blob/master/Max%20Drawdown.ipynb"
   ]
  },
  {
   "cell_type": "code",
   "execution_count": null,
   "metadata": {},
   "outputs": [],
   "source": [
    "df"
   ]
  },
  {
   "cell_type": "code",
   "execution_count": null,
   "metadata": {},
   "outputs": [],
   "source": [
    "previous_peaks=df['final NAV'].cummax()\n",
    "previous_peaks_SP=df['S&P final NAV'].cummax()\n"
   ]
  },
  {
   "cell_type": "code",
   "execution_count": null,
   "metadata": {},
   "outputs": [],
   "source": [
    "previous_peaks.plot()\n"
   ]
  },
  {
   "cell_type": "code",
   "execution_count": null,
   "metadata": {},
   "outputs": [],
   "source": [
    "previous_peaks_SP.plot()\n"
   ]
  },
  {
   "cell_type": "code",
   "execution_count": null,
   "metadata": {},
   "outputs": [],
   "source": [
    "#\n",
    "drawdown=(df['final NAV']-previous_peaks)/previous_peaks\n",
    "drawdown_SP=(df['S&P final NAV']-previous_peaks_SP)/previous_peaks_SP\n"
   ]
  },
  {
   "cell_type": "code",
   "execution_count": null,
   "metadata": {},
   "outputs": [],
   "source": [
    "drawdown_both = pd.DataFrame(drawdown)\n",
    "drawdown_both['S&P'] = drawdown_SP"
   ]
  },
  {
   "cell_type": "code",
   "execution_count": null,
   "metadata": {},
   "outputs": [],
   "source": [
    "fig = plt.figure(figsize=(14,5))\n",
    "sns.lineplot(data = drawdown_both)"
   ]
  },
  {
   "cell_type": "code",
   "execution_count": null,
   "metadata": {},
   "outputs": [],
   "source": [
    "R2 correlation score for regression"
   ]
  }
 ],
 "metadata": {
  "kernelspec": {
   "display_name": "Python 3",
   "language": "python",
   "name": "python3"
  },
  "language_info": {
   "codemirror_mode": {
    "name": "ipython",
    "version": 3
   },
   "file_extension": ".py",
   "mimetype": "text/x-python",
   "name": "python",
   "nbconvert_exporter": "python",
   "pygments_lexer": "ipython3",
   "version": "3.8.3"
  }
 },
 "nbformat": 4,
 "nbformat_minor": 4
}
