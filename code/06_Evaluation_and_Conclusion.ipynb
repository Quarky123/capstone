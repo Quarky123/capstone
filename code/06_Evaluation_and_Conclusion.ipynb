{
 "cells": [
  {
   "cell_type": "code",
   "execution_count": 1,
   "metadata": {},
   "outputs": [
    {
     "name": "stderr",
     "output_type": "stream",
     "text": [
      "<ipython-input-1-2dd3da127f31>:2: FutureWarning: The pandas.datetime class is deprecated and will be removed from pandas in a future version. Import from datetime module instead.\n",
      "  from pandas import datetime\n"
     ]
    }
   ],
   "source": [
    "#from pandas import read_csv\n",
    "from pandas import datetime\n",
    "import pandas as pd\n",
    "import numpy as np\n",
    "from matplotlib import pyplot\n",
    "from sklearn.metrics import mean_squared_error\n",
    "from sklearn.linear_model import LinearRegression\n",
    "from sklearn import metrics\n",
    "%matplotlib inline\n",
    "\n",
    "import seaborn as sns\n",
    "import matplotlib.pyplot as plt"
   ]
  },
  {
   "cell_type": "markdown",
   "metadata": {},
   "source": [
    "# Importing Dataset and cleaning them"
   ]
  },
  {
   "cell_type": "code",
   "execution_count": 2,
   "metadata": {},
   "outputs": [],
   "source": [
    "#read in NAV dataset\n",
    "NAV = pd.read_csv('../dataset/final_NAV.csv', parse_dates=['quarter'])"
   ]
  },
  {
   "cell_type": "code",
   "execution_count": 3,
   "metadata": {},
   "outputs": [],
   "source": [
    "NAV.drop(columns = ['Unnamed: 0'], inplace=True)"
   ]
  },
  {
   "cell_type": "code",
   "execution_count": 4,
   "metadata": {},
   "outputs": [],
   "source": [
    "NAV.rename(columns={'quarter': 'Date'}, inplace=True)"
   ]
  },
  {
   "cell_type": "code",
   "execution_count": 5,
   "metadata": {},
   "outputs": [],
   "source": [
    "NAV.set_index('Date', inplace = True)"
   ]
  },
  {
   "cell_type": "code",
   "execution_count": 6,
   "metadata": {},
   "outputs": [
    {
     "data": {
      "text/html": [
       "<div>\n",
       "<style scoped>\n",
       "    .dataframe tbody tr th:only-of-type {\n",
       "        vertical-align: middle;\n",
       "    }\n",
       "\n",
       "    .dataframe tbody tr th {\n",
       "        vertical-align: top;\n",
       "    }\n",
       "\n",
       "    .dataframe thead th {\n",
       "        text-align: right;\n",
       "    }\n",
       "</style>\n",
       "<table border=\"1\" class=\"dataframe\">\n",
       "  <thead>\n",
       "    <tr style=\"text-align: right;\">\n",
       "      <th></th>\n",
       "      <th>final NAV</th>\n",
       "    </tr>\n",
       "    <tr>\n",
       "      <th>Date</th>\n",
       "      <th></th>\n",
       "    </tr>\n",
       "  </thead>\n",
       "  <tbody>\n",
       "    <tr>\n",
       "      <th>2017-03-31</th>\n",
       "      <td>1.000000e+06</td>\n",
       "    </tr>\n",
       "    <tr>\n",
       "      <th>2017-06-30</th>\n",
       "      <td>3.460997e+06</td>\n",
       "    </tr>\n",
       "    <tr>\n",
       "      <th>2017-09-30</th>\n",
       "      <td>9.237187e+05</td>\n",
       "    </tr>\n",
       "    <tr>\n",
       "      <th>2017-12-31</th>\n",
       "      <td>2.006649e+06</td>\n",
       "    </tr>\n",
       "    <tr>\n",
       "      <th>2018-03-31</th>\n",
       "      <td>5.893689e+06</td>\n",
       "    </tr>\n",
       "  </tbody>\n",
       "</table>\n",
       "</div>"
      ],
      "text/plain": [
       "               final NAV\n",
       "Date                    \n",
       "2017-03-31  1.000000e+06\n",
       "2017-06-30  3.460997e+06\n",
       "2017-09-30  9.237187e+05\n",
       "2017-12-31  2.006649e+06\n",
       "2018-03-31  5.893689e+06"
      ]
     },
     "execution_count": 6,
     "metadata": {},
     "output_type": "execute_result"
    }
   ],
   "source": [
    "NAV.head()"
   ]
  },
  {
   "cell_type": "code",
   "execution_count": 7,
   "metadata": {},
   "outputs": [
    {
     "data": {
      "text/plain": [
       "final NAV    float64\n",
       "dtype: object"
      ]
     },
     "execution_count": 7,
     "metadata": {},
     "output_type": "execute_result"
    }
   ],
   "source": [
    "NAV.dtypes"
   ]
  },
  {
   "cell_type": "code",
   "execution_count": 8,
   "metadata": {},
   "outputs": [],
   "source": [
    "# S&P 500 import and resample it quarter\n",
    "SP = pd.read_csv('../dataset/s_and_p.csv', parse_dates=['Date'], index_col = 'Date')"
   ]
  },
  {
   "cell_type": "code",
   "execution_count": 9,
   "metadata": {},
   "outputs": [
    {
     "data": {
      "text/plain": [
       "Open         float64\n",
       "High         float64\n",
       "Low          float64\n",
       "Close        float64\n",
       "Adj Close    float64\n",
       "Volume         int64\n",
       "dtype: object"
      ]
     },
     "execution_count": 9,
     "metadata": {},
     "output_type": "execute_result"
    }
   ],
   "source": [
    "SP.dtypes"
   ]
  },
  {
   "cell_type": "code",
   "execution_count": 10,
   "metadata": {},
   "outputs": [
    {
     "data": {
      "text/html": [
       "<div>\n",
       "<style scoped>\n",
       "    .dataframe tbody tr th:only-of-type {\n",
       "        vertical-align: middle;\n",
       "    }\n",
       "\n",
       "    .dataframe tbody tr th {\n",
       "        vertical-align: top;\n",
       "    }\n",
       "\n",
       "    .dataframe thead th {\n",
       "        text-align: right;\n",
       "    }\n",
       "</style>\n",
       "<table border=\"1\" class=\"dataframe\">\n",
       "  <thead>\n",
       "    <tr style=\"text-align: right;\">\n",
       "      <th></th>\n",
       "      <th>Open</th>\n",
       "      <th>High</th>\n",
       "      <th>Low</th>\n",
       "      <th>Close</th>\n",
       "      <th>Adj Close</th>\n",
       "      <th>Volume</th>\n",
       "    </tr>\n",
       "    <tr>\n",
       "      <th>Date</th>\n",
       "      <th></th>\n",
       "      <th></th>\n",
       "      <th></th>\n",
       "      <th></th>\n",
       "      <th></th>\n",
       "      <th></th>\n",
       "    </tr>\n",
       "  </thead>\n",
       "  <tbody>\n",
       "    <tr>\n",
       "      <th>2017-03-31</th>\n",
       "      <td>2364.820068</td>\n",
       "      <td>2370.350098</td>\n",
       "      <td>2362.600098</td>\n",
       "      <td>2362.719971</td>\n",
       "      <td>2362.719971</td>\n",
       "      <td>3354110000</td>\n",
       "    </tr>\n",
       "    <tr>\n",
       "      <th>2017-04-03</th>\n",
       "      <td>2362.340088</td>\n",
       "      <td>2365.870117</td>\n",
       "      <td>2344.729980</td>\n",
       "      <td>2358.840088</td>\n",
       "      <td>2358.840088</td>\n",
       "      <td>3416400000</td>\n",
       "    </tr>\n",
       "    <tr>\n",
       "      <th>2017-04-04</th>\n",
       "      <td>2354.760010</td>\n",
       "      <td>2360.530029</td>\n",
       "      <td>2350.719971</td>\n",
       "      <td>2360.159912</td>\n",
       "      <td>2360.159912</td>\n",
       "      <td>3206240000</td>\n",
       "    </tr>\n",
       "    <tr>\n",
       "      <th>2017-04-05</th>\n",
       "      <td>2366.590088</td>\n",
       "      <td>2378.360107</td>\n",
       "      <td>2350.520020</td>\n",
       "      <td>2352.949951</td>\n",
       "      <td>2352.949951</td>\n",
       "      <td>3770520000</td>\n",
       "    </tr>\n",
       "    <tr>\n",
       "      <th>2017-04-06</th>\n",
       "      <td>2353.790039</td>\n",
       "      <td>2364.159912</td>\n",
       "      <td>2348.899902</td>\n",
       "      <td>2357.489990</td>\n",
       "      <td>2357.489990</td>\n",
       "      <td>3201920000</td>\n",
       "    </tr>\n",
       "  </tbody>\n",
       "</table>\n",
       "</div>"
      ],
      "text/plain": [
       "                   Open         High          Low        Close    Adj Close  \\\n",
       "Date                                                                          \n",
       "2017-03-31  2364.820068  2370.350098  2362.600098  2362.719971  2362.719971   \n",
       "2017-04-03  2362.340088  2365.870117  2344.729980  2358.840088  2358.840088   \n",
       "2017-04-04  2354.760010  2360.530029  2350.719971  2360.159912  2360.159912   \n",
       "2017-04-05  2366.590088  2378.360107  2350.520020  2352.949951  2352.949951   \n",
       "2017-04-06  2353.790039  2364.159912  2348.899902  2357.489990  2357.489990   \n",
       "\n",
       "                Volume  \n",
       "Date                    \n",
       "2017-03-31  3354110000  \n",
       "2017-04-03  3416400000  \n",
       "2017-04-04  3206240000  \n",
       "2017-04-05  3770520000  \n",
       "2017-04-06  3201920000  "
      ]
     },
     "execution_count": 10,
     "metadata": {},
     "output_type": "execute_result"
    }
   ],
   "source": [
    "SP.head()"
   ]
  },
  {
   "cell_type": "code",
   "execution_count": 11,
   "metadata": {},
   "outputs": [],
   "source": [
    "Quarterly_resampled_data = SP.Close.resample('Q').mean() \n",
    "Quarterly_resampled_data\n",
    "Q = pd.DataFrame(Quarterly_resampled_data)\n",
    "Q['percentage'] = Q['Close'].pct_change()\n",
    "Q.fillna(value = 0, inplace=True)"
   ]
  },
  {
   "cell_type": "code",
   "execution_count": 12,
   "metadata": {},
   "outputs": [
    {
     "data": {
      "text/html": [
       "<div>\n",
       "<style scoped>\n",
       "    .dataframe tbody tr th:only-of-type {\n",
       "        vertical-align: middle;\n",
       "    }\n",
       "\n",
       "    .dataframe tbody tr th {\n",
       "        vertical-align: top;\n",
       "    }\n",
       "\n",
       "    .dataframe thead th {\n",
       "        text-align: right;\n",
       "    }\n",
       "</style>\n",
       "<table border=\"1\" class=\"dataframe\">\n",
       "  <thead>\n",
       "    <tr style=\"text-align: right;\">\n",
       "      <th></th>\n",
       "      <th>Close</th>\n",
       "      <th>percentage</th>\n",
       "    </tr>\n",
       "    <tr>\n",
       "      <th>Date</th>\n",
       "      <th></th>\n",
       "      <th></th>\n",
       "    </tr>\n",
       "  </thead>\n",
       "  <tbody>\n",
       "    <tr>\n",
       "      <th>2017-03-31</th>\n",
       "      <td>2362.719971</td>\n",
       "      <td>0.000000</td>\n",
       "    </tr>\n",
       "    <tr>\n",
       "      <th>2017-06-30</th>\n",
       "      <td>2397.970936</td>\n",
       "      <td>0.014920</td>\n",
       "    </tr>\n",
       "    <tr>\n",
       "      <th>2017-09-30</th>\n",
       "      <td>2467.174626</td>\n",
       "      <td>0.028859</td>\n",
       "    </tr>\n",
       "    <tr>\n",
       "      <th>2017-12-31</th>\n",
       "      <td>2603.277317</td>\n",
       "      <td>0.055165</td>\n",
       "    </tr>\n",
       "    <tr>\n",
       "      <th>2018-03-31</th>\n",
       "      <td>2733.476723</td>\n",
       "      <td>0.050014</td>\n",
       "    </tr>\n",
       "  </tbody>\n",
       "</table>\n",
       "</div>"
      ],
      "text/plain": [
       "                  Close  percentage\n",
       "Date                               \n",
       "2017-03-31  2362.719971    0.000000\n",
       "2017-06-30  2397.970936    0.014920\n",
       "2017-09-30  2467.174626    0.028859\n",
       "2017-12-31  2603.277317    0.055165\n",
       "2018-03-31  2733.476723    0.050014"
      ]
     },
     "execution_count": 12,
     "metadata": {},
     "output_type": "execute_result"
    }
   ],
   "source": [
    "Q.head()"
   ]
  },
  {
   "cell_type": "code",
   "execution_count": 13,
   "metadata": {},
   "outputs": [
    {
     "data": {
      "text/plain": [
       "1000000"
      ]
     },
     "execution_count": 13,
     "metadata": {},
     "output_type": "execute_result"
    }
   ],
   "source": [
    "profit_percentage = list (Q['percentage'])\n",
    "NAV_end = [1000000]\n",
    "NAV_end[0]"
   ]
  },
  {
   "cell_type": "code",
   "execution_count": 14,
   "metadata": {},
   "outputs": [
    {
     "name": "stdout",
     "output_type": "stream",
     "text": [
      "0.0\n",
      "0\n",
      "0.014919654064686982\n",
      "0\n",
      "0.028859270052686847\n",
      "0\n",
      "0.05516540609515852\n",
      "0\n",
      "0.05001365208884878\n",
      "0\n",
      "-0.011101421741803508\n",
      "0\n",
      "0.05418537717929639\n",
      "0\n",
      "-0.05287567641320445\n",
      "0\n",
      "0.008180136883460642\n",
      "0\n",
      "0.059288160301491866\n",
      "0\n",
      "0.026197104649567038\n",
      "0\n",
      "0.04223330421986127\n",
      "0\n",
      "-0.008721556599585067\n",
      "0\n",
      "-0.040637743914149094\n",
      "0\n",
      "0.13216401856366167\n",
      "0\n"
     ]
    }
   ],
   "source": [
    "i = 1\n",
    "for i in profit_percentage:\n",
    "    print (i)\n",
    "    j = 0\n",
    "    print(j)\n",
    "    period_NAV = NAV_end[j]*(1+i)\n",
    "    NAV_end.append(period_NAV)\n",
    "    \n",
    "    j=j+1\n"
   ]
  },
  {
   "cell_type": "code",
   "execution_count": 15,
   "metadata": {},
   "outputs": [
    {
     "data": {
      "text/plain": [
       "1000000"
      ]
     },
     "execution_count": 15,
     "metadata": {},
     "output_type": "execute_result"
    }
   ],
   "source": [
    "NAV_end.pop(0)"
   ]
  },
  {
   "cell_type": "code",
   "execution_count": 16,
   "metadata": {},
   "outputs": [
    {
     "data": {
      "text/plain": [
       "[1000000.0,\n",
       " 1014919.654064687,\n",
       " 1028859.2700526868,\n",
       " 1055165.4060951585,\n",
       " 1050013.6520888489,\n",
       " 988898.5782581965,\n",
       " 1054185.3771792965,\n",
       " 947124.3235867956,\n",
       " 1008180.1368834607,\n",
       " 1059288.1603014919,\n",
       " 1026197.104649567,\n",
       " 1042233.3042198613,\n",
       " 991278.4434004149,\n",
       " 959362.2560858509,\n",
       " 1132164.0185636617]"
      ]
     },
     "execution_count": 16,
     "metadata": {},
     "output_type": "execute_result"
    }
   ],
   "source": [
    "NAV_end"
   ]
  },
  {
   "cell_type": "code",
   "execution_count": 17,
   "metadata": {},
   "outputs": [],
   "source": [
    "Q['S&P final NAV'] = NAV_end"
   ]
  },
  {
   "cell_type": "code",
   "execution_count": 18,
   "metadata": {},
   "outputs": [
    {
     "data": {
      "text/html": [
       "<div>\n",
       "<style scoped>\n",
       "    .dataframe tbody tr th:only-of-type {\n",
       "        vertical-align: middle;\n",
       "    }\n",
       "\n",
       "    .dataframe tbody tr th {\n",
       "        vertical-align: top;\n",
       "    }\n",
       "\n",
       "    .dataframe thead th {\n",
       "        text-align: right;\n",
       "    }\n",
       "</style>\n",
       "<table border=\"1\" class=\"dataframe\">\n",
       "  <thead>\n",
       "    <tr style=\"text-align: right;\">\n",
       "      <th></th>\n",
       "      <th>Close</th>\n",
       "      <th>percentage</th>\n",
       "      <th>S&amp;P final NAV</th>\n",
       "    </tr>\n",
       "    <tr>\n",
       "      <th>Date</th>\n",
       "      <th></th>\n",
       "      <th></th>\n",
       "      <th></th>\n",
       "    </tr>\n",
       "  </thead>\n",
       "  <tbody>\n",
       "    <tr>\n",
       "      <th>2017-03-31</th>\n",
       "      <td>2362.719971</td>\n",
       "      <td>0.000000</td>\n",
       "      <td>1.000000e+06</td>\n",
       "    </tr>\n",
       "    <tr>\n",
       "      <th>2017-06-30</th>\n",
       "      <td>2397.970936</td>\n",
       "      <td>0.014920</td>\n",
       "      <td>1.014920e+06</td>\n",
       "    </tr>\n",
       "    <tr>\n",
       "      <th>2017-09-30</th>\n",
       "      <td>2467.174626</td>\n",
       "      <td>0.028859</td>\n",
       "      <td>1.028859e+06</td>\n",
       "    </tr>\n",
       "    <tr>\n",
       "      <th>2017-12-31</th>\n",
       "      <td>2603.277317</td>\n",
       "      <td>0.055165</td>\n",
       "      <td>1.055165e+06</td>\n",
       "    </tr>\n",
       "    <tr>\n",
       "      <th>2018-03-31</th>\n",
       "      <td>2733.476723</td>\n",
       "      <td>0.050014</td>\n",
       "      <td>1.050014e+06</td>\n",
       "    </tr>\n",
       "    <tr>\n",
       "      <th>2018-06-30</th>\n",
       "      <td>2703.131245</td>\n",
       "      <td>-0.011101</td>\n",
       "      <td>9.888986e+05</td>\n",
       "    </tr>\n",
       "    <tr>\n",
       "      <th>2018-09-30</th>\n",
       "      <td>2849.601431</td>\n",
       "      <td>0.054185</td>\n",
       "      <td>1.054185e+06</td>\n",
       "    </tr>\n",
       "    <tr>\n",
       "      <th>2018-12-31</th>\n",
       "      <td>2698.926828</td>\n",
       "      <td>-0.052876</td>\n",
       "      <td>9.471243e+05</td>\n",
       "    </tr>\n",
       "    <tr>\n",
       "      <th>2019-03-31</th>\n",
       "      <td>2721.004418</td>\n",
       "      <td>0.008180</td>\n",
       "      <td>1.008180e+06</td>\n",
       "    </tr>\n",
       "    <tr>\n",
       "      <th>2019-06-30</th>\n",
       "      <td>2882.327765</td>\n",
       "      <td>0.059288</td>\n",
       "      <td>1.059288e+06</td>\n",
       "    </tr>\n",
       "    <tr>\n",
       "      <th>2019-09-30</th>\n",
       "      <td>2957.836407</td>\n",
       "      <td>0.026197</td>\n",
       "      <td>1.026197e+06</td>\n",
       "    </tr>\n",
       "    <tr>\n",
       "      <th>2019-12-31</th>\n",
       "      <td>3082.755611</td>\n",
       "      <td>0.042233</td>\n",
       "      <td>1.042233e+06</td>\n",
       "    </tr>\n",
       "    <tr>\n",
       "      <th>2020-03-31</th>\n",
       "      <td>3055.869184</td>\n",
       "      <td>-0.008722</td>\n",
       "      <td>9.912784e+05</td>\n",
       "    </tr>\n",
       "    <tr>\n",
       "      <th>2020-06-30</th>\n",
       "      <td>2931.685555</td>\n",
       "      <td>-0.040638</td>\n",
       "      <td>9.593623e+05</td>\n",
       "    </tr>\n",
       "    <tr>\n",
       "      <th>2020-09-30</th>\n",
       "      <td>3319.148899</td>\n",
       "      <td>0.132164</td>\n",
       "      <td>1.132164e+06</td>\n",
       "    </tr>\n",
       "  </tbody>\n",
       "</table>\n",
       "</div>"
      ],
      "text/plain": [
       "                  Close  percentage  S&P final NAV\n",
       "Date                                              \n",
       "2017-03-31  2362.719971    0.000000   1.000000e+06\n",
       "2017-06-30  2397.970936    0.014920   1.014920e+06\n",
       "2017-09-30  2467.174626    0.028859   1.028859e+06\n",
       "2017-12-31  2603.277317    0.055165   1.055165e+06\n",
       "2018-03-31  2733.476723    0.050014   1.050014e+06\n",
       "2018-06-30  2703.131245   -0.011101   9.888986e+05\n",
       "2018-09-30  2849.601431    0.054185   1.054185e+06\n",
       "2018-12-31  2698.926828   -0.052876   9.471243e+05\n",
       "2019-03-31  2721.004418    0.008180   1.008180e+06\n",
       "2019-06-30  2882.327765    0.059288   1.059288e+06\n",
       "2019-09-30  2957.836407    0.026197   1.026197e+06\n",
       "2019-12-31  3082.755611    0.042233   1.042233e+06\n",
       "2020-03-31  3055.869184   -0.008722   9.912784e+05\n",
       "2020-06-30  2931.685555   -0.040638   9.593623e+05\n",
       "2020-09-30  3319.148899    0.132164   1.132164e+06"
      ]
     },
     "execution_count": 18,
     "metadata": {},
     "output_type": "execute_result"
    }
   ],
   "source": [
    "Q"
   ]
  },
  {
   "cell_type": "code",
   "execution_count": 19,
   "metadata": {},
   "outputs": [
    {
     "data": {
      "text/html": [
       "<div>\n",
       "<style scoped>\n",
       "    .dataframe tbody tr th:only-of-type {\n",
       "        vertical-align: middle;\n",
       "    }\n",
       "\n",
       "    .dataframe tbody tr th {\n",
       "        vertical-align: top;\n",
       "    }\n",
       "\n",
       "    .dataframe thead th {\n",
       "        text-align: right;\n",
       "    }\n",
       "</style>\n",
       "<table border=\"1\" class=\"dataframe\">\n",
       "  <thead>\n",
       "    <tr style=\"text-align: right;\">\n",
       "      <th></th>\n",
       "      <th>final NAV</th>\n",
       "    </tr>\n",
       "    <tr>\n",
       "      <th>Date</th>\n",
       "      <th></th>\n",
       "    </tr>\n",
       "  </thead>\n",
       "  <tbody>\n",
       "    <tr>\n",
       "      <th>2017-03-31</th>\n",
       "      <td>1.000000e+06</td>\n",
       "    </tr>\n",
       "    <tr>\n",
       "      <th>2017-06-30</th>\n",
       "      <td>3.460997e+06</td>\n",
       "    </tr>\n",
       "    <tr>\n",
       "      <th>2017-09-30</th>\n",
       "      <td>9.237187e+05</td>\n",
       "    </tr>\n",
       "    <tr>\n",
       "      <th>2017-12-31</th>\n",
       "      <td>2.006649e+06</td>\n",
       "    </tr>\n",
       "    <tr>\n",
       "      <th>2018-03-31</th>\n",
       "      <td>5.893689e+06</td>\n",
       "    </tr>\n",
       "  </tbody>\n",
       "</table>\n",
       "</div>"
      ],
      "text/plain": [
       "               final NAV\n",
       "Date                    \n",
       "2017-03-31  1.000000e+06\n",
       "2017-06-30  3.460997e+06\n",
       "2017-09-30  9.237187e+05\n",
       "2017-12-31  2.006649e+06\n",
       "2018-03-31  5.893689e+06"
      ]
     },
     "execution_count": 19,
     "metadata": {},
     "output_type": "execute_result"
    }
   ],
   "source": [
    "#create a new dataframe called df and fill it in with the 2 graphs\n",
    "df = pd.DataFrame(NAV['final NAV'])\n",
    "df.head()"
   ]
  },
  {
   "cell_type": "code",
   "execution_count": 20,
   "metadata": {},
   "outputs": [
    {
     "data": {
      "text/html": [
       "<div>\n",
       "<style scoped>\n",
       "    .dataframe tbody tr th:only-of-type {\n",
       "        vertical-align: middle;\n",
       "    }\n",
       "\n",
       "    .dataframe tbody tr th {\n",
       "        vertical-align: top;\n",
       "    }\n",
       "\n",
       "    .dataframe thead th {\n",
       "        text-align: right;\n",
       "    }\n",
       "</style>\n",
       "<table border=\"1\" class=\"dataframe\">\n",
       "  <thead>\n",
       "    <tr style=\"text-align: right;\">\n",
       "      <th></th>\n",
       "      <th>final NAV</th>\n",
       "      <th>S&amp;P final NAV</th>\n",
       "    </tr>\n",
       "    <tr>\n",
       "      <th>Date</th>\n",
       "      <th></th>\n",
       "      <th></th>\n",
       "    </tr>\n",
       "  </thead>\n",
       "  <tbody>\n",
       "    <tr>\n",
       "      <th>2017-03-31</th>\n",
       "      <td>1.000000e+06</td>\n",
       "      <td>1.000000e+06</td>\n",
       "    </tr>\n",
       "    <tr>\n",
       "      <th>2017-06-30</th>\n",
       "      <td>3.460997e+06</td>\n",
       "      <td>1.014920e+06</td>\n",
       "    </tr>\n",
       "    <tr>\n",
       "      <th>2017-09-30</th>\n",
       "      <td>9.237187e+05</td>\n",
       "      <td>1.028859e+06</td>\n",
       "    </tr>\n",
       "    <tr>\n",
       "      <th>2017-12-31</th>\n",
       "      <td>2.006649e+06</td>\n",
       "      <td>1.055165e+06</td>\n",
       "    </tr>\n",
       "    <tr>\n",
       "      <th>2018-03-31</th>\n",
       "      <td>5.893689e+06</td>\n",
       "      <td>1.050014e+06</td>\n",
       "    </tr>\n",
       "    <tr>\n",
       "      <th>2018-06-30</th>\n",
       "      <td>4.714505e+06</td>\n",
       "      <td>9.888986e+05</td>\n",
       "    </tr>\n",
       "    <tr>\n",
       "      <th>2018-09-30</th>\n",
       "      <td>3.825094e+05</td>\n",
       "      <td>1.054185e+06</td>\n",
       "    </tr>\n",
       "    <tr>\n",
       "      <th>2018-12-31</th>\n",
       "      <td>5.889524e+04</td>\n",
       "      <td>9.471243e+05</td>\n",
       "    </tr>\n",
       "    <tr>\n",
       "      <th>2019-03-31</th>\n",
       "      <td>2.365030e+06</td>\n",
       "      <td>1.008180e+06</td>\n",
       "    </tr>\n",
       "    <tr>\n",
       "      <th>2019-06-30</th>\n",
       "      <td>-2.439302e+05</td>\n",
       "      <td>1.059288e+06</td>\n",
       "    </tr>\n",
       "    <tr>\n",
       "      <th>2019-09-30</th>\n",
       "      <td>9.768358e+06</td>\n",
       "      <td>1.026197e+06</td>\n",
       "    </tr>\n",
       "    <tr>\n",
       "      <th>2019-12-31</th>\n",
       "      <td>3.816194e+05</td>\n",
       "      <td>1.042233e+06</td>\n",
       "    </tr>\n",
       "    <tr>\n",
       "      <th>2020-03-31</th>\n",
       "      <td>4.259105e+06</td>\n",
       "      <td>9.912784e+05</td>\n",
       "    </tr>\n",
       "    <tr>\n",
       "      <th>2020-06-30</th>\n",
       "      <td>2.418544e+06</td>\n",
       "      <td>9.593623e+05</td>\n",
       "    </tr>\n",
       "    <tr>\n",
       "      <th>2020-09-30</th>\n",
       "      <td>1.078788e+06</td>\n",
       "      <td>1.132164e+06</td>\n",
       "    </tr>\n",
       "  </tbody>\n",
       "</table>\n",
       "</div>"
      ],
      "text/plain": [
       "               final NAV  S&P final NAV\n",
       "Date                                   \n",
       "2017-03-31  1.000000e+06   1.000000e+06\n",
       "2017-06-30  3.460997e+06   1.014920e+06\n",
       "2017-09-30  9.237187e+05   1.028859e+06\n",
       "2017-12-31  2.006649e+06   1.055165e+06\n",
       "2018-03-31  5.893689e+06   1.050014e+06\n",
       "2018-06-30  4.714505e+06   9.888986e+05\n",
       "2018-09-30  3.825094e+05   1.054185e+06\n",
       "2018-12-31  5.889524e+04   9.471243e+05\n",
       "2019-03-31  2.365030e+06   1.008180e+06\n",
       "2019-06-30 -2.439302e+05   1.059288e+06\n",
       "2019-09-30  9.768358e+06   1.026197e+06\n",
       "2019-12-31  3.816194e+05   1.042233e+06\n",
       "2020-03-31  4.259105e+06   9.912784e+05\n",
       "2020-06-30  2.418544e+06   9.593623e+05\n",
       "2020-09-30  1.078788e+06   1.132164e+06"
      ]
     },
     "execution_count": 20,
     "metadata": {},
     "output_type": "execute_result"
    }
   ],
   "source": [
    "df['S&P final NAV'] = Q['S&P final NAV']\n",
    "df"
   ]
  },
  {
   "cell_type": "markdown",
   "metadata": {},
   "source": [
    "# Cumulative returns "
   ]
  },
  {
   "cell_type": "code",
   "execution_count": 21,
   "metadata": {},
   "outputs": [
    {
     "data": {
      "text/plain": [
       "<AxesSubplot:xlabel='Date'>"
      ]
     },
     "execution_count": 21,
     "metadata": {},
     "output_type": "execute_result"
    },
    {
     "data": {
      "image/png": "[encoded data removed]",
      "text/plain": [
       "<Figure size 1008x360 with 1 Axes>"
      ]
     },
     "metadata": {
      "needs_background": "light"
     },
     "output_type": "display_data"
    }
   ],
   "source": [
    "#plot the graph\n",
    "fig = plt.figure(figsize=(14,5))\n",
    "sns.lineplot(data = df)"
   ]
  },
  {
   "cell_type": "code",
   "execution_count": 22,
   "metadata": {},
   "outputs": [],
   "source": [
    "# let us zoom in on the final year\n",
    "df2 = df[10:]"
   ]
  },
  {
   "cell_type": "code",
   "execution_count": 23,
   "metadata": {},
   "outputs": [
    {
     "data": {
      "text/html": [
       "<div>\n",
       "<style scoped>\n",
       "    .dataframe tbody tr th:only-of-type {\n",
       "        vertical-align: middle;\n",
       "    }\n",
       "\n",
       "    .dataframe tbody tr th {\n",
       "        vertical-align: top;\n",
       "    }\n",
       "\n",
       "    .dataframe thead th {\n",
       "        text-align: right;\n",
       "    }\n",
       "</style>\n",
       "<table border=\"1\" class=\"dataframe\">\n",
       "  <thead>\n",
       "    <tr style=\"text-align: right;\">\n",
       "      <th></th>\n",
       "      <th>final NAV</th>\n",
       "      <th>S&amp;P final NAV</th>\n",
       "    </tr>\n",
       "    <tr>\n",
       "      <th>Date</th>\n",
       "      <th></th>\n",
       "      <th></th>\n",
       "    </tr>\n",
       "  </thead>\n",
       "  <tbody>\n",
       "    <tr>\n",
       "      <th>2019-09-30</th>\n",
       "      <td>9.768358e+06</td>\n",
       "      <td>1.026197e+06</td>\n",
       "    </tr>\n",
       "    <tr>\n",
       "      <th>2019-12-31</th>\n",
       "      <td>3.816194e+05</td>\n",
       "      <td>1.042233e+06</td>\n",
       "    </tr>\n",
       "    <tr>\n",
       "      <th>2020-03-31</th>\n",
       "      <td>4.259105e+06</td>\n",
       "      <td>9.912784e+05</td>\n",
       "    </tr>\n",
       "    <tr>\n",
       "      <th>2020-06-30</th>\n",
       "      <td>2.418544e+06</td>\n",
       "      <td>9.593623e+05</td>\n",
       "    </tr>\n",
       "    <tr>\n",
       "      <th>2020-09-30</th>\n",
       "      <td>1.078788e+06</td>\n",
       "      <td>1.132164e+06</td>\n",
       "    </tr>\n",
       "  </tbody>\n",
       "</table>\n",
       "</div>"
      ],
      "text/plain": [
       "               final NAV  S&P final NAV\n",
       "Date                                   \n",
       "2019-09-30  9.768358e+06   1.026197e+06\n",
       "2019-12-31  3.816194e+05   1.042233e+06\n",
       "2020-03-31  4.259105e+06   9.912784e+05\n",
       "2020-06-30  2.418544e+06   9.593623e+05\n",
       "2020-09-30  1.078788e+06   1.132164e+06"
      ]
     },
     "execution_count": 23,
     "metadata": {},
     "output_type": "execute_result"
    }
   ],
   "source": [
    "df2"
   ]
  },
  {
   "cell_type": "code",
   "execution_count": 24,
   "metadata": {},
   "outputs": [
    {
     "data": {
      "text/plain": [
       "<AxesSubplot:xlabel='Date'>"
      ]
     },
     "execution_count": 24,
     "metadata": {},
     "output_type": "execute_result"
    },
    {
     "data": {
      "image/png": "[encoded data removed]",
      "text/plain": [
       "<Figure size 1008x360 with 1 Axes>"
      ]
     },
     "metadata": {
      "needs_background": "light"
     },
     "output_type": "display_data"
    }
   ],
   "source": [
    "#plot the final year\n",
    "fig = plt.figure(figsize=(14,5))\n",
    "sns.lineplot(data = df2)"
   ]
  },
  {
   "cell_type": "markdown",
   "metadata": {},
   "source": [
    "# Rolling sharpe ratio"
   ]
  },
  {
   "cell_type": "code",
   "execution_count": 25,
   "metadata": {},
   "outputs": [
    {
     "data": {
      "image/png": "[encoded data removed]",
      "text/plain": [
       "<IPython.core.display.Image object>"
      ]
     },
     "execution_count": 25,
     "metadata": {},
     "output_type": "execute_result"
    }
   ],
   "source": [
    "from IPython.display import Image\n",
    "Image(filename='../pictures/sharpe_ratio.png')\n",
    "# sharpe ratio explained"
   ]
  },
  {
   "cell_type": "markdown",
   "metadata": {},
   "source": [
    "### create a new dataframe"
   ]
  },
  {
   "cell_type": "code",
   "execution_count": 26,
   "metadata": {},
   "outputs": [
    {
     "data": {
      "text/html": [
       "<div>\n",
       "<style scoped>\n",
       "    .dataframe tbody tr th:only-of-type {\n",
       "        vertical-align: middle;\n",
       "    }\n",
       "\n",
       "    .dataframe tbody tr th {\n",
       "        vertical-align: top;\n",
       "    }\n",
       "\n",
       "    .dataframe thead th {\n",
       "        text-align: right;\n",
       "    }\n",
       "</style>\n",
       "<table border=\"1\" class=\"dataframe\">\n",
       "  <thead>\n",
       "    <tr style=\"text-align: right;\">\n",
       "      <th></th>\n",
       "      <th>Close</th>\n",
       "      <th>percentage</th>\n",
       "      <th>S&amp;P final NAV</th>\n",
       "    </tr>\n",
       "    <tr>\n",
       "      <th>Date</th>\n",
       "      <th></th>\n",
       "      <th></th>\n",
       "      <th></th>\n",
       "    </tr>\n",
       "  </thead>\n",
       "  <tbody>\n",
       "    <tr>\n",
       "      <th>2017-03-31</th>\n",
       "      <td>2362.719971</td>\n",
       "      <td>0.000000</td>\n",
       "      <td>1.000000e+06</td>\n",
       "    </tr>\n",
       "    <tr>\n",
       "      <th>2017-06-30</th>\n",
       "      <td>2397.970936</td>\n",
       "      <td>0.014920</td>\n",
       "      <td>1.014920e+06</td>\n",
       "    </tr>\n",
       "    <tr>\n",
       "      <th>2017-09-30</th>\n",
       "      <td>2467.174626</td>\n",
       "      <td>0.028859</td>\n",
       "      <td>1.028859e+06</td>\n",
       "    </tr>\n",
       "    <tr>\n",
       "      <th>2017-12-31</th>\n",
       "      <td>2603.277317</td>\n",
       "      <td>0.055165</td>\n",
       "      <td>1.055165e+06</td>\n",
       "    </tr>\n",
       "    <tr>\n",
       "      <th>2018-03-31</th>\n",
       "      <td>2733.476723</td>\n",
       "      <td>0.050014</td>\n",
       "      <td>1.050014e+06</td>\n",
       "    </tr>\n",
       "  </tbody>\n",
       "</table>\n",
       "</div>"
      ],
      "text/plain": [
       "                  Close  percentage  S&P final NAV\n",
       "Date                                              \n",
       "2017-03-31  2362.719971    0.000000   1.000000e+06\n",
       "2017-06-30  2397.970936    0.014920   1.014920e+06\n",
       "2017-09-30  2467.174626    0.028859   1.028859e+06\n",
       "2017-12-31  2603.277317    0.055165   1.055165e+06\n",
       "2018-03-31  2733.476723    0.050014   1.050014e+06"
      ]
     },
     "execution_count": 26,
     "metadata": {},
     "output_type": "execute_result"
    }
   ],
   "source": [
    "Q.head()"
   ]
  },
  {
   "cell_type": "code",
   "execution_count": 27,
   "metadata": {},
   "outputs": [
    {
     "data": {
      "text/html": [
       "<div>\n",
       "<style scoped>\n",
       "    .dataframe tbody tr th:only-of-type {\n",
       "        vertical-align: middle;\n",
       "    }\n",
       "\n",
       "    .dataframe tbody tr th {\n",
       "        vertical-align: top;\n",
       "    }\n",
       "\n",
       "    .dataframe thead th {\n",
       "        text-align: right;\n",
       "    }\n",
       "</style>\n",
       "<table border=\"1\" class=\"dataframe\">\n",
       "  <thead>\n",
       "    <tr style=\"text-align: right;\">\n",
       "      <th></th>\n",
       "      <th>percentage</th>\n",
       "    </tr>\n",
       "    <tr>\n",
       "      <th>Date</th>\n",
       "      <th></th>\n",
       "    </tr>\n",
       "  </thead>\n",
       "  <tbody>\n",
       "    <tr>\n",
       "      <th>2017-03-31</th>\n",
       "      <td>0.000000</td>\n",
       "    </tr>\n",
       "    <tr>\n",
       "      <th>2017-06-30</th>\n",
       "      <td>0.014920</td>\n",
       "    </tr>\n",
       "    <tr>\n",
       "      <th>2017-09-30</th>\n",
       "      <td>0.028859</td>\n",
       "    </tr>\n",
       "    <tr>\n",
       "      <th>2017-12-31</th>\n",
       "      <td>0.055165</td>\n",
       "    </tr>\n",
       "    <tr>\n",
       "      <th>2018-03-31</th>\n",
       "      <td>0.050014</td>\n",
       "    </tr>\n",
       "  </tbody>\n",
       "</table>\n",
       "</div>"
      ],
      "text/plain": [
       "            percentage\n",
       "Date                  \n",
       "2017-03-31    0.000000\n",
       "2017-06-30    0.014920\n",
       "2017-09-30    0.028859\n",
       "2017-12-31    0.055165\n",
       "2018-03-31    0.050014"
      ]
     },
     "execution_count": 27,
     "metadata": {},
     "output_type": "execute_result"
    }
   ],
   "source": [
    "df_returns = pd.DataFrame(Q['percentage'])\n",
    "df_returns.head()\n",
    "# initiate a new dataframe called df_returns"
   ]
  },
  {
   "cell_type": "code",
   "execution_count": 28,
   "metadata": {},
   "outputs": [],
   "source": [
    "df_returns.rename(columns =  {'percentage':'S&P % returns'}, inplace=True)\n",
    "#rename it"
   ]
  },
  {
   "cell_type": "code",
   "execution_count": 29,
   "metadata": {},
   "outputs": [
    {
     "data": {
      "text/html": [
       "<div>\n",
       "<style scoped>\n",
       "    .dataframe tbody tr th:only-of-type {\n",
       "        vertical-align: middle;\n",
       "    }\n",
       "\n",
       "    .dataframe tbody tr th {\n",
       "        vertical-align: top;\n",
       "    }\n",
       "\n",
       "    .dataframe thead th {\n",
       "        text-align: right;\n",
       "    }\n",
       "</style>\n",
       "<table border=\"1\" class=\"dataframe\">\n",
       "  <thead>\n",
       "    <tr style=\"text-align: right;\">\n",
       "      <th></th>\n",
       "      <th>Quarter</th>\n",
       "      <th>Pos. Open</th>\n",
       "      <th>Pos. Close</th>\n",
       "      <th>Profit</th>\n",
       "    </tr>\n",
       "  </thead>\n",
       "  <tbody>\n",
       "    <tr>\n",
       "      <th>0</th>\n",
       "      <td>2017-06-30</td>\n",
       "      <td>567.349</td>\n",
       "      <td>573.744</td>\n",
       "      <td>2.460997</td>\n",
       "    </tr>\n",
       "    <tr>\n",
       "      <th>1</th>\n",
       "      <td>2017-09-30</td>\n",
       "      <td>85.689</td>\n",
       "      <td>86.468</td>\n",
       "      <td>-0.076281</td>\n",
       "    </tr>\n",
       "    <tr>\n",
       "      <th>2</th>\n",
       "      <td>2017-12-31</td>\n",
       "      <td>732.537</td>\n",
       "      <td>737.739</td>\n",
       "      <td>1.006649</td>\n",
       "    </tr>\n",
       "    <tr>\n",
       "      <th>3</th>\n",
       "      <td>2018-03-31</td>\n",
       "      <td>1832.113</td>\n",
       "      <td>1934.712</td>\n",
       "      <td>4.893689</td>\n",
       "    </tr>\n",
       "    <tr>\n",
       "      <th>4</th>\n",
       "      <td>2018-06-30</td>\n",
       "      <td>1642.219</td>\n",
       "      <td>1655.285</td>\n",
       "      <td>3.714505</td>\n",
       "    </tr>\n",
       "  </tbody>\n",
       "</table>\n",
       "</div>"
      ],
      "text/plain": [
       "      Quarter  Pos. Open  Pos. Close    Profit\n",
       "0  2017-06-30    567.349     573.744  2.460997\n",
       "1  2017-09-30     85.689      86.468 -0.076281\n",
       "2  2017-12-31    732.537     737.739  1.006649\n",
       "3  2018-03-31   1832.113    1934.712  4.893689\n",
       "4  2018-06-30   1642.219    1655.285  3.714505"
      ]
     },
     "execution_count": 29,
     "metadata": {},
     "output_type": "execute_result"
    }
   ],
   "source": [
    "#read in \n",
    "temp = pd.read_csv('../dataset/Final_by_quarter.csv')\n",
    "temp.head()"
   ]
  },
  {
   "cell_type": "code",
   "execution_count": 30,
   "metadata": {},
   "outputs": [],
   "source": [
    "profit_percent = list(temp['Profit'])\n",
    "profit_percent.insert(0,0)"
   ]
  },
  {
   "cell_type": "code",
   "execution_count": 31,
   "metadata": {},
   "outputs": [
    {
     "data": {
      "text/html": [
       "<div>\n",
       "<style scoped>\n",
       "    .dataframe tbody tr th:only-of-type {\n",
       "        vertical-align: middle;\n",
       "    }\n",
       "\n",
       "    .dataframe tbody tr th {\n",
       "        vertical-align: top;\n",
       "    }\n",
       "\n",
       "    .dataframe thead th {\n",
       "        text-align: right;\n",
       "    }\n",
       "</style>\n",
       "<table border=\"1\" class=\"dataframe\">\n",
       "  <thead>\n",
       "    <tr style=\"text-align: right;\">\n",
       "      <th></th>\n",
       "      <th>S&amp;P % returns</th>\n",
       "    </tr>\n",
       "    <tr>\n",
       "      <th>Date</th>\n",
       "      <th></th>\n",
       "    </tr>\n",
       "  </thead>\n",
       "  <tbody>\n",
       "    <tr>\n",
       "      <th>2017-03-31</th>\n",
       "      <td>0.000000</td>\n",
       "    </tr>\n",
       "    <tr>\n",
       "      <th>2017-06-30</th>\n",
       "      <td>0.014920</td>\n",
       "    </tr>\n",
       "    <tr>\n",
       "      <th>2017-09-30</th>\n",
       "      <td>0.028859</td>\n",
       "    </tr>\n",
       "    <tr>\n",
       "      <th>2017-12-31</th>\n",
       "      <td>0.055165</td>\n",
       "    </tr>\n",
       "    <tr>\n",
       "      <th>2018-03-31</th>\n",
       "      <td>0.050014</td>\n",
       "    </tr>\n",
       "    <tr>\n",
       "      <th>2018-06-30</th>\n",
       "      <td>-0.011101</td>\n",
       "    </tr>\n",
       "    <tr>\n",
       "      <th>2018-09-30</th>\n",
       "      <td>0.054185</td>\n",
       "    </tr>\n",
       "    <tr>\n",
       "      <th>2018-12-31</th>\n",
       "      <td>-0.052876</td>\n",
       "    </tr>\n",
       "    <tr>\n",
       "      <th>2019-03-31</th>\n",
       "      <td>0.008180</td>\n",
       "    </tr>\n",
       "    <tr>\n",
       "      <th>2019-06-30</th>\n",
       "      <td>0.059288</td>\n",
       "    </tr>\n",
       "    <tr>\n",
       "      <th>2019-09-30</th>\n",
       "      <td>0.026197</td>\n",
       "    </tr>\n",
       "    <tr>\n",
       "      <th>2019-12-31</th>\n",
       "      <td>0.042233</td>\n",
       "    </tr>\n",
       "    <tr>\n",
       "      <th>2020-03-31</th>\n",
       "      <td>-0.008722</td>\n",
       "    </tr>\n",
       "    <tr>\n",
       "      <th>2020-06-30</th>\n",
       "      <td>-0.040638</td>\n",
       "    </tr>\n",
       "    <tr>\n",
       "      <th>2020-09-30</th>\n",
       "      <td>0.132164</td>\n",
       "    </tr>\n",
       "  </tbody>\n",
       "</table>\n",
       "</div>"
      ],
      "text/plain": [
       "            S&P % returns\n",
       "Date                     \n",
       "2017-03-31       0.000000\n",
       "2017-06-30       0.014920\n",
       "2017-09-30       0.028859\n",
       "2017-12-31       0.055165\n",
       "2018-03-31       0.050014\n",
       "2018-06-30      -0.011101\n",
       "2018-09-30       0.054185\n",
       "2018-12-31      -0.052876\n",
       "2019-03-31       0.008180\n",
       "2019-06-30       0.059288\n",
       "2019-09-30       0.026197\n",
       "2019-12-31       0.042233\n",
       "2020-03-31      -0.008722\n",
       "2020-06-30      -0.040638\n",
       "2020-09-30       0.132164"
      ]
     },
     "execution_count": 31,
     "metadata": {},
     "output_type": "execute_result"
    }
   ],
   "source": [
    "df_returns"
   ]
  },
  {
   "cell_type": "code",
   "execution_count": 32,
   "metadata": {},
   "outputs": [
    {
     "data": {
      "text/html": [
       "<div>\n",
       "<style scoped>\n",
       "    .dataframe tbody tr th:only-of-type {\n",
       "        vertical-align: middle;\n",
       "    }\n",
       "\n",
       "    .dataframe tbody tr th {\n",
       "        vertical-align: top;\n",
       "    }\n",
       "\n",
       "    .dataframe thead th {\n",
       "        text-align: right;\n",
       "    }\n",
       "</style>\n",
       "<table border=\"1\" class=\"dataframe\">\n",
       "  <thead>\n",
       "    <tr style=\"text-align: right;\">\n",
       "      <th></th>\n",
       "      <th>S&amp;P % returns</th>\n",
       "      <th>strategy % returns</th>\n",
       "    </tr>\n",
       "    <tr>\n",
       "      <th>Date</th>\n",
       "      <th></th>\n",
       "      <th></th>\n",
       "    </tr>\n",
       "  </thead>\n",
       "  <tbody>\n",
       "    <tr>\n",
       "      <th>2017-03-31</th>\n",
       "      <td>0.000000</td>\n",
       "      <td>0.000000</td>\n",
       "    </tr>\n",
       "    <tr>\n",
       "      <th>2017-06-30</th>\n",
       "      <td>0.014920</td>\n",
       "      <td>2.460997</td>\n",
       "    </tr>\n",
       "    <tr>\n",
       "      <th>2017-09-30</th>\n",
       "      <td>0.028859</td>\n",
       "      <td>-0.076281</td>\n",
       "    </tr>\n",
       "    <tr>\n",
       "      <th>2017-12-31</th>\n",
       "      <td>0.055165</td>\n",
       "      <td>1.006649</td>\n",
       "    </tr>\n",
       "    <tr>\n",
       "      <th>2018-03-31</th>\n",
       "      <td>0.050014</td>\n",
       "      <td>4.893689</td>\n",
       "    </tr>\n",
       "    <tr>\n",
       "      <th>2018-06-30</th>\n",
       "      <td>-0.011101</td>\n",
       "      <td>3.714505</td>\n",
       "    </tr>\n",
       "    <tr>\n",
       "      <th>2018-09-30</th>\n",
       "      <td>0.054185</td>\n",
       "      <td>-0.617491</td>\n",
       "    </tr>\n",
       "    <tr>\n",
       "      <th>2018-12-31</th>\n",
       "      <td>-0.052876</td>\n",
       "      <td>-0.941105</td>\n",
       "    </tr>\n",
       "    <tr>\n",
       "      <th>2019-03-31</th>\n",
       "      <td>0.008180</td>\n",
       "      <td>1.365030</td>\n",
       "    </tr>\n",
       "    <tr>\n",
       "      <th>2019-06-30</th>\n",
       "      <td>0.059288</td>\n",
       "      <td>-1.243930</td>\n",
       "    </tr>\n",
       "    <tr>\n",
       "      <th>2019-09-30</th>\n",
       "      <td>0.026197</td>\n",
       "      <td>8.768358</td>\n",
       "    </tr>\n",
       "    <tr>\n",
       "      <th>2019-12-31</th>\n",
       "      <td>0.042233</td>\n",
       "      <td>-0.618381</td>\n",
       "    </tr>\n",
       "    <tr>\n",
       "      <th>2020-03-31</th>\n",
       "      <td>-0.008722</td>\n",
       "      <td>3.259105</td>\n",
       "    </tr>\n",
       "    <tr>\n",
       "      <th>2020-06-30</th>\n",
       "      <td>-0.040638</td>\n",
       "      <td>1.418544</td>\n",
       "    </tr>\n",
       "    <tr>\n",
       "      <th>2020-09-30</th>\n",
       "      <td>0.132164</td>\n",
       "      <td>0.078788</td>\n",
       "    </tr>\n",
       "  </tbody>\n",
       "</table>\n",
       "</div>"
      ],
      "text/plain": [
       "            S&P % returns  strategy % returns\n",
       "Date                                         \n",
       "2017-03-31       0.000000            0.000000\n",
       "2017-06-30       0.014920            2.460997\n",
       "2017-09-30       0.028859           -0.076281\n",
       "2017-12-31       0.055165            1.006649\n",
       "2018-03-31       0.050014            4.893689\n",
       "2018-06-30      -0.011101            3.714505\n",
       "2018-09-30       0.054185           -0.617491\n",
       "2018-12-31      -0.052876           -0.941105\n",
       "2019-03-31       0.008180            1.365030\n",
       "2019-06-30       0.059288           -1.243930\n",
       "2019-09-30       0.026197            8.768358\n",
       "2019-12-31       0.042233           -0.618381\n",
       "2020-03-31      -0.008722            3.259105\n",
       "2020-06-30      -0.040638            1.418544\n",
       "2020-09-30       0.132164            0.078788"
      ]
     },
     "execution_count": 32,
     "metadata": {},
     "output_type": "execute_result"
    }
   ],
   "source": [
    "df_returns['strategy % returns'] = profit_percent\n",
    "df_returns"
   ]
  },
  {
   "cell_type": "code",
   "execution_count": 33,
   "metadata": {},
   "outputs": [],
   "source": [
    "def my_rolling_sharpe(y):\n",
    "    return np.sqrt(4) * (y.mean() / y.std()) # we roll over 6 months\n",
    "# create a rolling sharpe ratio"
   ]
  },
  {
   "cell_type": "code",
   "execution_count": 34,
   "metadata": {},
   "outputs": [],
   "source": [
    "df_rs = df_returns"
   ]
  },
  {
   "cell_type": "code",
   "execution_count": 35,
   "metadata": {},
   "outputs": [],
   "source": [
    "# To calculate the Sharpe ratio for a window exactly 6 calendar months wide\n",
    "df_rs['S&P 500 6 months rolling sharpe'] = [my_rolling_sharpe(df_rs.loc[d - pd.offsets.DateOffset(months=6):d, 'S&P % returns']) \n",
    "             for d in df.index]\n",
    "df_rs['Strategy 6 months rolling sharpe'] = [my_rolling_sharpe(df_rs.loc[d - pd.offsets.DateOffset(months=6):d, 'strategy % returns']) \n",
    "             for d in df.index]\n"
   ]
  },
  {
   "cell_type": "code",
   "execution_count": 36,
   "metadata": {},
   "outputs": [
    {
     "data": {
      "text/plain": [
       "<AxesSubplot:xlabel='Date'>"
      ]
     },
     "execution_count": 36,
     "metadata": {},
     "output_type": "execute_result"
    },
    {
     "data": {
      "image/png": "[encoded data removed]",
      "text/plain": [
       "<Figure size 1008x360 with 1 Axes>"
      ]
     },
     "metadata": {
      "needs_background": "light"
     },
     "output_type": "display_data"
    }
   ],
   "source": [
    "# Compare the two windows\n",
    "df_rs.plot(y=['S&P 500 6 months rolling sharpe','Strategy 6 months rolling sharpe'], linewidth=0.5, figsize=(14,5))\n"
   ]
  },
  {
   "cell_type": "code",
   "execution_count": 37,
   "metadata": {},
   "outputs": [
    {
     "data": {
      "text/html": [
       "<div>\n",
       "<style scoped>\n",
       "    .dataframe tbody tr th:only-of-type {\n",
       "        vertical-align: middle;\n",
       "    }\n",
       "\n",
       "    .dataframe tbody tr th {\n",
       "        vertical-align: top;\n",
       "    }\n",
       "\n",
       "    .dataframe thead th {\n",
       "        text-align: right;\n",
       "    }\n",
       "</style>\n",
       "<table border=\"1\" class=\"dataframe\">\n",
       "  <thead>\n",
       "    <tr style=\"text-align: right;\">\n",
       "      <th></th>\n",
       "      <th>S&amp;P % returns</th>\n",
       "      <th>strategy % returns</th>\n",
       "      <th>S&amp;P 500 6 months rolling sharpe</th>\n",
       "      <th>Strategy 6 months rolling sharpe</th>\n",
       "    </tr>\n",
       "    <tr>\n",
       "      <th>Date</th>\n",
       "      <th></th>\n",
       "      <th></th>\n",
       "      <th></th>\n",
       "      <th></th>\n",
       "    </tr>\n",
       "  </thead>\n",
       "  <tbody>\n",
       "    <tr>\n",
       "      <th>2017-03-31</th>\n",
       "      <td>0.000000</td>\n",
       "      <td>0.000000</td>\n",
       "      <td>NaN</td>\n",
       "      <td>NaN</td>\n",
       "    </tr>\n",
       "    <tr>\n",
       "      <th>2017-06-30</th>\n",
       "      <td>0.014920</td>\n",
       "      <td>2.460997</td>\n",
       "      <td>1.414214</td>\n",
       "      <td>1.414214</td>\n",
       "    </tr>\n",
       "    <tr>\n",
       "      <th>2017-09-30</th>\n",
       "      <td>0.028859</td>\n",
       "      <td>-0.076281</td>\n",
       "      <td>2.022251</td>\n",
       "      <td>1.101448</td>\n",
       "    </tr>\n",
       "    <tr>\n",
       "      <th>2017-12-31</th>\n",
       "      <td>0.055165</td>\n",
       "      <td>1.006649</td>\n",
       "      <td>3.227608</td>\n",
       "      <td>1.775823</td>\n",
       "    </tr>\n",
       "    <tr>\n",
       "      <th>2018-03-31</th>\n",
       "      <td>0.050014</td>\n",
       "      <td>4.893689</td>\n",
       "      <td>6.409921</td>\n",
       "      <td>1.485632</td>\n",
       "    </tr>\n",
       "    <tr>\n",
       "      <th>2018-06-30</th>\n",
       "      <td>-0.011101</td>\n",
       "      <td>3.714505</td>\n",
       "      <td>1.701434</td>\n",
       "      <td>3.216222</td>\n",
       "    </tr>\n",
       "    <tr>\n",
       "      <th>2018-09-30</th>\n",
       "      <td>0.054185</td>\n",
       "      <td>-0.617491</td>\n",
       "      <td>1.698150</td>\n",
       "      <td>1.835675</td>\n",
       "    </tr>\n",
       "    <tr>\n",
       "      <th>2018-12-31</th>\n",
       "      <td>-0.052876</td>\n",
       "      <td>-0.941105</td>\n",
       "      <td>-0.120977</td>\n",
       "      <td>0.552895</td>\n",
       "    </tr>\n",
       "    <tr>\n",
       "      <th>2019-03-31</th>\n",
       "      <td>0.008180</td>\n",
       "      <td>1.365030</td>\n",
       "      <td>0.117799</td>\n",
       "      <td>-0.103354</td>\n",
       "    </tr>\n",
       "    <tr>\n",
       "      <th>2019-06-30</th>\n",
       "      <td>0.059288</td>\n",
       "      <td>-1.243930</td>\n",
       "      <td>0.173241</td>\n",
       "      <td>-0.383111</td>\n",
       "    </tr>\n",
       "    <tr>\n",
       "      <th>2019-09-30</th>\n",
       "      <td>0.026197</td>\n",
       "      <td>8.768358</td>\n",
       "      <td>2.408916</td>\n",
       "      <td>1.141005</td>\n",
       "    </tr>\n",
       "    <tr>\n",
       "      <th>2019-12-31</th>\n",
       "      <td>0.042233</td>\n",
       "      <td>-0.618381</td>\n",
       "      <td>5.145334</td>\n",
       "      <td>0.820867</td>\n",
       "    </tr>\n",
       "    <tr>\n",
       "      <th>2020-03-31</th>\n",
       "      <td>-0.008722</td>\n",
       "      <td>3.259105</td>\n",
       "      <td>1.527822</td>\n",
       "      <td>1.612495</td>\n",
       "    </tr>\n",
       "    <tr>\n",
       "      <th>2020-06-30</th>\n",
       "      <td>-0.040638</td>\n",
       "      <td>1.418544</td>\n",
       "      <td>-0.113657</td>\n",
       "      <td>1.395246</td>\n",
       "    </tr>\n",
       "    <tr>\n",
       "      <th>2020-09-30</th>\n",
       "      <td>0.132164</td>\n",
       "      <td>0.078788</td>\n",
       "      <td>0.600366</td>\n",
       "      <td>1.985924</td>\n",
       "    </tr>\n",
       "  </tbody>\n",
       "</table>\n",
       "</div>"
      ],
      "text/plain": [
       "            S&P % returns  strategy % returns  \\\n",
       "Date                                            \n",
       "2017-03-31       0.000000            0.000000   \n",
       "2017-06-30       0.014920            2.460997   \n",
       "2017-09-30       0.028859           -0.076281   \n",
       "2017-12-31       0.055165            1.006649   \n",
       "2018-03-31       0.050014            4.893689   \n",
       "2018-06-30      -0.011101            3.714505   \n",
       "2018-09-30       0.054185           -0.617491   \n",
       "2018-12-31      -0.052876           -0.941105   \n",
       "2019-03-31       0.008180            1.365030   \n",
       "2019-06-30       0.059288           -1.243930   \n",
       "2019-09-30       0.026197            8.768358   \n",
       "2019-12-31       0.042233           -0.618381   \n",
       "2020-03-31      -0.008722            3.259105   \n",
       "2020-06-30      -0.040638            1.418544   \n",
       "2020-09-30       0.132164            0.078788   \n",
       "\n",
       "            S&P 500 6 months rolling sharpe  Strategy 6 months rolling sharpe  \n",
       "Date                                                                           \n",
       "2017-03-31                              NaN                               NaN  \n",
       "2017-06-30                         1.414214                          1.414214  \n",
       "2017-09-30                         2.022251                          1.101448  \n",
       "2017-12-31                         3.227608                          1.775823  \n",
       "2018-03-31                         6.409921                          1.485632  \n",
       "2018-06-30                         1.701434                          3.216222  \n",
       "2018-09-30                         1.698150                          1.835675  \n",
       "2018-12-31                        -0.120977                          0.552895  \n",
       "2019-03-31                         0.117799                         -0.103354  \n",
       "2019-06-30                         0.173241                         -0.383111  \n",
       "2019-09-30                         2.408916                          1.141005  \n",
       "2019-12-31                         5.145334                          0.820867  \n",
       "2020-03-31                         1.527822                          1.612495  \n",
       "2020-06-30                        -0.113657                          1.395246  \n",
       "2020-09-30                         0.600366                          1.985924  "
      ]
     },
     "execution_count": 37,
     "metadata": {},
     "output_type": "execute_result"
    }
   ],
   "source": [
    "df_rs"
   ]
  },
  {
   "cell_type": "code",
   "execution_count": 38,
   "metadata": {},
   "outputs": [
    {
     "data": {
      "text/plain": [
       "1.872315811299582"
      ]
     },
     "execution_count": 38,
     "metadata": {},
     "output_type": "execute_result"
    }
   ],
   "source": [
    "df_rs['S&P 500 6 months rolling sharpe'].mean()"
   ]
  },
  {
   "cell_type": "code",
   "execution_count": 39,
   "metadata": {},
   "outputs": [
    {
     "data": {
      "text/plain": [
       "1.2750698757795085"
      ]
     },
     "execution_count": 39,
     "metadata": {},
     "output_type": "execute_result"
    }
   ],
   "source": [
    "df_rs['Strategy 6 months rolling sharpe'].mean()\n",
    "#average rolling sharpe ratio is lower for my strategy than the S&P"
   ]
  }
 ],
 "metadata": {
  "kernelspec": {
   "display_name": "Python 3",
   "language": "python",
   "name": "python3"
  },
  "language_info": {
   "codemirror_mode": {
    "name": "ipython",
    "version": 3
   },
   "file_extension": ".py",
   "mimetype": "text/x-python",
   "name": "python",
   "nbconvert_exporter": "python",
   "pygments_lexer": "ipython3",
   "version": "3.8.3"
  }
 },
 "nbformat": 4,
 "nbformat_minor": 4
}
